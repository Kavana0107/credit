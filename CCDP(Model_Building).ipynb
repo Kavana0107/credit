{
 "cells": [
  {
   "cell_type": "markdown",
   "id": "6dfb0d31",
   "metadata": {},
   "source": [
    "# Preparing the dataset for model building after the data preprocessing "
   ]
  },
  {
   "cell_type": "code",
   "execution_count": 1,
   "id": "2b2e692d",
   "metadata": {},
   "outputs": [],
   "source": [
    "import logging\n",
    "\n",
    "logger = logging.getLogger()\n",
    "\n",
    "file_handler = logging.FileHandler(filename='project_log.log', mode='w')\n",
    "formatter = logging.Formatter('%(asctime)s - %(name)s - %(levelname)s - %(message)s')\n",
    "file_handler.setFormatter(formatter)\n",
    "logger.addHandler(file_handler)\n",
    "\n",
    "logger.setLevel(logging.DEBUG)\n",
    "logger.info('RUNNING!')"
   ]
  },
  {
   "cell_type": "code",
   "execution_count": 2,
   "id": "6da163da",
   "metadata": {},
   "outputs": [],
   "source": [
    "logger.info('Importing Libraries for model building!')"
   ]
  },
  {
   "cell_type": "code",
   "execution_count": 3,
   "id": "24e2ea35",
   "metadata": {},
   "outputs": [],
   "source": [
    "import pandas as pd\n",
    "import matplotlib.pyplot as plt\n",
    "import seaborn as sns\n",
    "from sklearn.metrics import accuracy_score,precision_score,recall_score,f1_score,classification_report,confusion_matrix,roc_curve\n",
    "from sklearn.model_selection import RandomizedSearchCV\n",
    "from sklearn import tree\n",
    "from sklearn.tree import DecisionTreeClassifier\n",
    "from sklearn.model_selection import KFold,cross_val_score\n",
    "from sklearn.linear_model import LogisticRegression\n",
    "from sklearn.ensemble import RandomForestClassifier\n",
    "from sklearn.svm import SVC\n",
    "from sklearn.model_selection import train_test_split\n",
    "import warnings\n",
    "warnings.filterwarnings(\"ignore\")"
   ]
  },
  {
   "cell_type": "code",
   "execution_count": 4,
   "id": "f4465556",
   "metadata": {},
   "outputs": [],
   "source": [
    "CC_DF_final=pd.read_csv('Final_Data.csv')"
   ]
  },
  {
   "cell_type": "code",
   "execution_count": 5,
   "id": "cee28d37",
   "metadata": {},
   "outputs": [],
   "source": [
    "CC_DF_final.drop('Unnamed: 0',axis = 1, inplace = True)"
   ]
  },
  {
   "cell_type": "code",
   "execution_count": 6,
   "id": "21b34378",
   "metadata": {},
   "outputs": [
    {
     "data": {
      "text/html": [
       "<div>\n",
       "<style scoped>\n",
       "    .dataframe tbody tr th:only-of-type {\n",
       "        vertical-align: middle;\n",
       "    }\n",
       "\n",
       "    .dataframe tbody tr th {\n",
       "        vertical-align: top;\n",
       "    }\n",
       "\n",
       "    .dataframe thead th {\n",
       "        text-align: right;\n",
       "    }\n",
       "</style>\n",
       "<table border=\"1\" class=\"dataframe\">\n",
       "  <thead>\n",
       "    <tr style=\"text-align: right;\">\n",
       "      <th></th>\n",
       "      <th>LIMIT_BAL</th>\n",
       "      <th>SEX</th>\n",
       "      <th>EDUCATION</th>\n",
       "      <th>MARRIAGE</th>\n",
       "      <th>AGE</th>\n",
       "      <th>PAY_0</th>\n",
       "      <th>PAY_2</th>\n",
       "      <th>PAY_3</th>\n",
       "      <th>PAY_4</th>\n",
       "      <th>PAY_5</th>\n",
       "      <th>...</th>\n",
       "      <th>BILL_AMT4</th>\n",
       "      <th>BILL_AMT5</th>\n",
       "      <th>BILL_AMT6</th>\n",
       "      <th>PAY_AMT1</th>\n",
       "      <th>PAY_AMT2</th>\n",
       "      <th>PAY_AMT3</th>\n",
       "      <th>PAY_AMT4</th>\n",
       "      <th>PAY_AMT5</th>\n",
       "      <th>PAY_AMT6</th>\n",
       "      <th>default</th>\n",
       "    </tr>\n",
       "  </thead>\n",
       "  <tbody>\n",
       "    <tr>\n",
       "      <th>0</th>\n",
       "      <td>20000.000000</td>\n",
       "      <td>2</td>\n",
       "      <td>2</td>\n",
       "      <td>1</td>\n",
       "      <td>24.000000</td>\n",
       "      <td>2</td>\n",
       "      <td>2</td>\n",
       "      <td>-1</td>\n",
       "      <td>-1</td>\n",
       "      <td>-2</td>\n",
       "      <td>...</td>\n",
       "      <td>0</td>\n",
       "      <td>0</td>\n",
       "      <td>0</td>\n",
       "      <td>0</td>\n",
       "      <td>689</td>\n",
       "      <td>0</td>\n",
       "      <td>0</td>\n",
       "      <td>0</td>\n",
       "      <td>0</td>\n",
       "      <td>1</td>\n",
       "    </tr>\n",
       "    <tr>\n",
       "      <th>1</th>\n",
       "      <td>120000.000000</td>\n",
       "      <td>2</td>\n",
       "      <td>2</td>\n",
       "      <td>2</td>\n",
       "      <td>26.000000</td>\n",
       "      <td>-1</td>\n",
       "      <td>2</td>\n",
       "      <td>0</td>\n",
       "      <td>0</td>\n",
       "      <td>0</td>\n",
       "      <td>...</td>\n",
       "      <td>3272</td>\n",
       "      <td>3455</td>\n",
       "      <td>3261</td>\n",
       "      <td>0</td>\n",
       "      <td>1000</td>\n",
       "      <td>1000</td>\n",
       "      <td>1000</td>\n",
       "      <td>0</td>\n",
       "      <td>2000</td>\n",
       "      <td>1</td>\n",
       "    </tr>\n",
       "    <tr>\n",
       "      <th>2</th>\n",
       "      <td>90000.000000</td>\n",
       "      <td>2</td>\n",
       "      <td>2</td>\n",
       "      <td>2</td>\n",
       "      <td>34.000000</td>\n",
       "      <td>0</td>\n",
       "      <td>0</td>\n",
       "      <td>0</td>\n",
       "      <td>0</td>\n",
       "      <td>0</td>\n",
       "      <td>...</td>\n",
       "      <td>14331</td>\n",
       "      <td>14948</td>\n",
       "      <td>15549</td>\n",
       "      <td>1518</td>\n",
       "      <td>1500</td>\n",
       "      <td>1000</td>\n",
       "      <td>1000</td>\n",
       "      <td>1000</td>\n",
       "      <td>5000</td>\n",
       "      <td>0</td>\n",
       "    </tr>\n",
       "    <tr>\n",
       "      <th>3</th>\n",
       "      <td>50000.000000</td>\n",
       "      <td>2</td>\n",
       "      <td>2</td>\n",
       "      <td>1</td>\n",
       "      <td>37.000000</td>\n",
       "      <td>0</td>\n",
       "      <td>0</td>\n",
       "      <td>0</td>\n",
       "      <td>0</td>\n",
       "      <td>0</td>\n",
       "      <td>...</td>\n",
       "      <td>28314</td>\n",
       "      <td>28959</td>\n",
       "      <td>29547</td>\n",
       "      <td>2000</td>\n",
       "      <td>2019</td>\n",
       "      <td>1200</td>\n",
       "      <td>1100</td>\n",
       "      <td>1069</td>\n",
       "      <td>1000</td>\n",
       "      <td>0</td>\n",
       "    </tr>\n",
       "    <tr>\n",
       "      <th>4</th>\n",
       "      <td>50000.000000</td>\n",
       "      <td>1</td>\n",
       "      <td>2</td>\n",
       "      <td>1</td>\n",
       "      <td>57.000000</td>\n",
       "      <td>-1</td>\n",
       "      <td>0</td>\n",
       "      <td>-1</td>\n",
       "      <td>0</td>\n",
       "      <td>0</td>\n",
       "      <td>...</td>\n",
       "      <td>20940</td>\n",
       "      <td>19146</td>\n",
       "      <td>19131</td>\n",
       "      <td>2000</td>\n",
       "      <td>36681</td>\n",
       "      <td>10000</td>\n",
       "      <td>9000</td>\n",
       "      <td>689</td>\n",
       "      <td>679</td>\n",
       "      <td>0</td>\n",
       "    </tr>\n",
       "    <tr>\n",
       "      <th>...</th>\n",
       "      <td>...</td>\n",
       "      <td>...</td>\n",
       "      <td>...</td>\n",
       "      <td>...</td>\n",
       "      <td>...</td>\n",
       "      <td>...</td>\n",
       "      <td>...</td>\n",
       "      <td>...</td>\n",
       "      <td>...</td>\n",
       "      <td>...</td>\n",
       "      <td>...</td>\n",
       "      <td>...</td>\n",
       "      <td>...</td>\n",
       "      <td>...</td>\n",
       "      <td>...</td>\n",
       "      <td>...</td>\n",
       "      <td>...</td>\n",
       "      <td>...</td>\n",
       "      <td>...</td>\n",
       "      <td>...</td>\n",
       "      <td>...</td>\n",
       "    </tr>\n",
       "    <tr>\n",
       "      <th>46723</th>\n",
       "      <td>80000.000000</td>\n",
       "      <td>1</td>\n",
       "      <td>1</td>\n",
       "      <td>1</td>\n",
       "      <td>35.945412</td>\n",
       "      <td>2</td>\n",
       "      <td>1</td>\n",
       "      <td>1</td>\n",
       "      <td>2</td>\n",
       "      <td>2</td>\n",
       "      <td>...</td>\n",
       "      <td>41087</td>\n",
       "      <td>40597</td>\n",
       "      <td>42101</td>\n",
       "      <td>3308</td>\n",
       "      <td>1429</td>\n",
       "      <td>2746</td>\n",
       "      <td>476</td>\n",
       "      <td>2238</td>\n",
       "      <td>2046</td>\n",
       "      <td>1</td>\n",
       "    </tr>\n",
       "    <tr>\n",
       "      <th>46724</th>\n",
       "      <td>200000.000000</td>\n",
       "      <td>1</td>\n",
       "      <td>1</td>\n",
       "      <td>1</td>\n",
       "      <td>42.667513</td>\n",
       "      <td>-1</td>\n",
       "      <td>-1</td>\n",
       "      <td>-1</td>\n",
       "      <td>-1</td>\n",
       "      <td>-1</td>\n",
       "      <td>...</td>\n",
       "      <td>480</td>\n",
       "      <td>2517</td>\n",
       "      <td>0</td>\n",
       "      <td>290</td>\n",
       "      <td>79</td>\n",
       "      <td>480</td>\n",
       "      <td>2517</td>\n",
       "      <td>0</td>\n",
       "      <td>228</td>\n",
       "      <td>1</td>\n",
       "    </tr>\n",
       "    <tr>\n",
       "      <th>46725</th>\n",
       "      <td>120000.000000</td>\n",
       "      <td>1</td>\n",
       "      <td>2</td>\n",
       "      <td>2</td>\n",
       "      <td>30.443648</td>\n",
       "      <td>1</td>\n",
       "      <td>-2</td>\n",
       "      <td>-2</td>\n",
       "      <td>-2</td>\n",
       "      <td>-2</td>\n",
       "      <td>...</td>\n",
       "      <td>-1946</td>\n",
       "      <td>-1946</td>\n",
       "      <td>-1946</td>\n",
       "      <td>2</td>\n",
       "      <td>0</td>\n",
       "      <td>0</td>\n",
       "      <td>0</td>\n",
       "      <td>0</td>\n",
       "      <td>0</td>\n",
       "      <td>1</td>\n",
       "    </tr>\n",
       "    <tr>\n",
       "      <th>46726</th>\n",
       "      <td>194668.588007</td>\n",
       "      <td>1</td>\n",
       "      <td>2</td>\n",
       "      <td>1</td>\n",
       "      <td>33.132565</td>\n",
       "      <td>6</td>\n",
       "      <td>5</td>\n",
       "      <td>4</td>\n",
       "      <td>3</td>\n",
       "      <td>2</td>\n",
       "      <td>...</td>\n",
       "      <td>209623</td>\n",
       "      <td>203659</td>\n",
       "      <td>193689</td>\n",
       "      <td>0</td>\n",
       "      <td>153</td>\n",
       "      <td>0</td>\n",
       "      <td>0</td>\n",
       "      <td>75986</td>\n",
       "      <td>4899</td>\n",
       "      <td>1</td>\n",
       "    </tr>\n",
       "    <tr>\n",
       "      <th>46727</th>\n",
       "      <td>140000.000000</td>\n",
       "      <td>2</td>\n",
       "      <td>1</td>\n",
       "      <td>1</td>\n",
       "      <td>27.260045</td>\n",
       "      <td>2</td>\n",
       "      <td>2</td>\n",
       "      <td>2</td>\n",
       "      <td>2</td>\n",
       "      <td>2</td>\n",
       "      <td>...</td>\n",
       "      <td>99666</td>\n",
       "      <td>100041</td>\n",
       "      <td>100237</td>\n",
       "      <td>4426</td>\n",
       "      <td>3808</td>\n",
       "      <td>3626</td>\n",
       "      <td>2589</td>\n",
       "      <td>2028</td>\n",
       "      <td>2567</td>\n",
       "      <td>1</td>\n",
       "    </tr>\n",
       "  </tbody>\n",
       "</table>\n",
       "<p>46728 rows × 24 columns</p>\n",
       "</div>"
      ],
      "text/plain": [
       "           LIMIT_BAL  SEX  EDUCATION  MARRIAGE        AGE  PAY_0  PAY_2  \\\n",
       "0       20000.000000    2          2         1  24.000000      2      2   \n",
       "1      120000.000000    2          2         2  26.000000     -1      2   \n",
       "2       90000.000000    2          2         2  34.000000      0      0   \n",
       "3       50000.000000    2          2         1  37.000000      0      0   \n",
       "4       50000.000000    1          2         1  57.000000     -1      0   \n",
       "...              ...  ...        ...       ...        ...    ...    ...   \n",
       "46723   80000.000000    1          1         1  35.945412      2      1   \n",
       "46724  200000.000000    1          1         1  42.667513     -1     -1   \n",
       "46725  120000.000000    1          2         2  30.443648      1     -2   \n",
       "46726  194668.588007    1          2         1  33.132565      6      5   \n",
       "46727  140000.000000    2          1         1  27.260045      2      2   \n",
       "\n",
       "       PAY_3  PAY_4  PAY_5  ...  BILL_AMT4  BILL_AMT5  BILL_AMT6  PAY_AMT1  \\\n",
       "0         -1     -1     -2  ...          0          0          0         0   \n",
       "1          0      0      0  ...       3272       3455       3261         0   \n",
       "2          0      0      0  ...      14331      14948      15549      1518   \n",
       "3          0      0      0  ...      28314      28959      29547      2000   \n",
       "4         -1      0      0  ...      20940      19146      19131      2000   \n",
       "...      ...    ...    ...  ...        ...        ...        ...       ...   \n",
       "46723      1      2      2  ...      41087      40597      42101      3308   \n",
       "46724     -1     -1     -1  ...        480       2517          0       290   \n",
       "46725     -2     -2     -2  ...      -1946      -1946      -1946         2   \n",
       "46726      4      3      2  ...     209623     203659     193689         0   \n",
       "46727      2      2      2  ...      99666     100041     100237      4426   \n",
       "\n",
       "       PAY_AMT2  PAY_AMT3  PAY_AMT4  PAY_AMT5  PAY_AMT6  default  \n",
       "0           689         0         0         0         0        1  \n",
       "1          1000      1000      1000         0      2000        1  \n",
       "2          1500      1000      1000      1000      5000        0  \n",
       "3          2019      1200      1100      1069      1000        0  \n",
       "4         36681     10000      9000       689       679        0  \n",
       "...         ...       ...       ...       ...       ...      ...  \n",
       "46723      1429      2746       476      2238      2046        1  \n",
       "46724        79       480      2517         0       228        1  \n",
       "46725         0         0         0         0         0        1  \n",
       "46726       153         0         0     75986      4899        1  \n",
       "46727      3808      3626      2589      2028      2567        1  \n",
       "\n",
       "[46728 rows x 24 columns]"
      ]
     },
     "execution_count": 6,
     "metadata": {},
     "output_type": "execute_result"
    }
   ],
   "source": [
    "CC_DF_final"
   ]
  },
  {
   "cell_type": "markdown",
   "id": "4ea47591",
   "metadata": {},
   "source": [
    "# Splitting the data"
   ]
  },
  {
   "cell_type": "code",
   "execution_count": 7,
   "id": "bb2f6365",
   "metadata": {},
   "outputs": [],
   "source": [
    "logger.info('DATA PREPARING FOR MODELING STARTS!')"
   ]
  },
  {
   "cell_type": "code",
   "execution_count": 8,
   "id": "8a0e2166",
   "metadata": {},
   "outputs": [],
   "source": [
    "X = CC_DF_final.drop('default',axis=1)\n",
    "y = CC_DF_final['default']"
   ]
  },
  {
   "cell_type": "code",
   "execution_count": 9,
   "id": "c77a33cf",
   "metadata": {},
   "outputs": [],
   "source": [
    "X_train,X_test,y_train,y_test=train_test_split(X,y,test_size=0.25,random_state=0)\n"
   ]
  },
  {
   "cell_type": "markdown",
   "id": "b59737dc",
   "metadata": {},
   "source": [
    "# Scaling the data"
   ]
  },
  {
   "cell_type": "code",
   "execution_count": 10,
   "id": "6f6115c7",
   "metadata": {},
   "outputs": [],
   "source": [
    "from sklearn.preprocessing import StandardScaler\n",
    "scaler = StandardScaler()\n",
    "X_train_scaled = scaler.fit_transform(X_train)"
   ]
  },
  {
   "cell_type": "code",
   "execution_count": 11,
   "id": "3aa515f6",
   "metadata": {},
   "outputs": [],
   "source": [
    "logger.info('DATA PREPARING FOR MODELING ENDS!')"
   ]
  },
  {
   "cell_type": "markdown",
   "id": "f6474000",
   "metadata": {},
   "source": [
    "# Model Building"
   ]
  },
  {
   "cell_type": "code",
   "execution_count": 12,
   "id": "16e3a2a3",
   "metadata": {},
   "outputs": [],
   "source": [
    "logger.info('MODELING STARTS!')"
   ]
  },
  {
   "cell_type": "code",
   "execution_count": 13,
   "id": "c597e292",
   "metadata": {},
   "outputs": [],
   "source": [
    "# Helper Function for printing Accuracy matrices, plotting Confusiuon matrix and ROC curve\n",
    "\n",
    "def helper(model,X_train,y_train,X_test,y_test):\n",
    "    train_pred = model.predict(X_train)\n",
    "    test_pred = model.predict(X_test)\n",
    "\n",
    "    train_acc = accuracy_score(train_pred, y_train)\n",
    "    test_acc = accuracy_score(test_pred, y_test)\n",
    "    prec = precision_score(y_test, test_pred)\n",
    "    recc = recall_score(y_test, test_pred)\n",
    "    f1 = f1_score(y_test, test_pred)\n",
    "    acc_matrices = {'Train accuracy':train_acc,'Test accuracy':test_acc,'Precision':prec,'Recall':recc,'F1 Score':f1}\n",
    "\n",
    "    print('\\nTraining Accuracy Score: ',train_acc)\n",
    "    print('Testing Accuracy Score: ',test_acc)\n",
    "    print('Precision on test data: ',prec)\n",
    "    print('Recall on test data: ',recc)\n",
    "    print('F1 score on test data: ',f1)\n",
    "    print('\\n========================================================')\n",
    "    print('Classification Report on Train data')\n",
    "    print(classification_report(train_pred, y_train))\n",
    "    print('\\n========================================================')\n",
    "    print('Classification Report on Test data')\n",
    "    print(classification_report(test_pred, y_test))\n",
    "\n",
    "    print('\\n========================================================')\n",
    "    # Plotting Confusion Matrix and ROC curve\n",
    "    f,ax =  plt.subplots(1,2,figsize=(14,6))\n",
    "    #plt.figure(figsize=(6,4))\n",
    "    ConfMatrix = confusion_matrix(test_pred, y_test)\n",
    "    sns.heatmap(ConfMatrix,annot=True, cmap='YlGnBu', fmt=\"d\", \n",
    "                xticklabels = ['Non-default', 'Default'], \n",
    "                yticklabels = ['Non-default', 'Default'],linewidths=.5,ax = ax[0])\n",
    "    ax[0].set_ylabel('True label')\n",
    "    ax[0].set_xlabel('Predicted label')\n",
    "    ax[0].set_title('Confusion Matrix')\n",
    "\n",
    "    global fpr,tpr,thresholds\n",
    "    fpr,tpr,thresholds = roc_curve(test_pred, y_test)\n",
    "    ax[1].plot(fpr,tpr,color = 'r')\n",
    "    ax[1].plot(fpr,fpr,color = 'green')\n",
    "    ax[1].set_ylabel('TPR')\n",
    "    ax[1].set_xlabel('FPR')\n",
    "    ax[1].set_title('ROC Curve')\n",
    "    plt.show()\n",
    "    return acc_matrices"
   ]
  },
  {
   "cell_type": "markdown",
   "id": "855ce9d6",
   "metadata": {},
   "source": [
    "# 1. Logistic Regression"
   ]
  },
  {
   "cell_type": "code",
   "execution_count": 14,
   "id": "22d4f8fe",
   "metadata": {},
   "outputs": [],
   "source": [
    "logger.info('MODEL - LOGISTIC REGRESSION STARTS!')"
   ]
  },
  {
   "cell_type": "code",
   "execution_count": 15,
   "id": "e83944b1",
   "metadata": {},
   "outputs": [
    {
     "data": {
      "text/plain": [
       "LogisticRegression()"
      ]
     },
     "execution_count": 15,
     "metadata": {},
     "output_type": "execute_result"
    }
   ],
   "source": [
    "LogR = LogisticRegression()\n",
    "LogR.fit(X_train_scaled,y_train)"
   ]
  },
  {
   "cell_type": "code",
   "execution_count": 16,
   "id": "6a0fd5a2",
   "metadata": {},
   "outputs": [],
   "source": [
    "X_test_scaled = scaler.transform(X_test)"
   ]
  },
  {
   "cell_type": "code",
   "execution_count": 17,
   "id": "8263bdd9",
   "metadata": {},
   "outputs": [
    {
     "name": "stdout",
     "output_type": "stream",
     "text": [
      "\n",
      "Training Accuracy Score:  0.7235918507104948\n",
      "Testing Accuracy Score:  0.7114363978770758\n",
      "Precision on test data:  0.7158002735978112\n",
      "Recall on test data:  0.7100932994062765\n",
      "F1 score on test data:  0.7129353657498084\n",
      "\n",
      "========================================================\n",
      "Classification Report on Train data\n",
      "              precision    recall  f1-score   support\n",
      "\n",
      "           0       0.73      0.72      0.73     17680\n",
      "           1       0.72      0.72      0.72     17366\n",
      "\n",
      "    accuracy                           0.72     35046\n",
      "   macro avg       0.72      0.72      0.72     35046\n",
      "weighted avg       0.72      0.72      0.72     35046\n",
      "\n",
      "\n",
      "========================================================\n",
      "Classification Report on Test data\n",
      "              precision    recall  f1-score   support\n",
      "\n",
      "           0       0.71      0.71      0.71      5834\n",
      "           1       0.71      0.72      0.71      5848\n",
      "\n",
      "    accuracy                           0.71     11682\n",
      "   macro avg       0.71      0.71      0.71     11682\n",
      "weighted avg       0.71      0.71      0.71     11682\n",
      "\n",
      "\n",
      "========================================================\n"
     ]
    },
    {
     "data": {
      "image/png": "[encoded data removed]",
      "text/plain": [
       "<Figure size 1400x600 with 3 Axes>"
      ]
     },
     "metadata": {},
     "output_type": "display_data"
    },
    {
     "data": {
      "text/plain": [
       "{'Train accuracy': 0.7235918507104948,\n",
       " 'Test accuracy': 0.7114363978770758,\n",
       " 'Precision': 0.7158002735978112,\n",
       " 'Recall': 0.7100932994062765,\n",
       " 'F1 Score': 0.7129353657498084}"
      ]
     },
     "execution_count": 17,
     "metadata": {},
     "output_type": "execute_result"
    }
   ],
   "source": [
    "helper(LogR,X_train_scaled,y_train,X_test_scaled, y_test)"
   ]
  },
  {
   "cell_type": "code",
   "execution_count": 18,
   "id": "64c993af",
   "metadata": {},
   "outputs": [],
   "source": [
    "logger.info('MODEL - LOGISTIC REGRESSION ENDS!')"
   ]
  },
  {
   "cell_type": "markdown",
   "id": "053363c6",
   "metadata": {},
   "source": [
    "# 2.Decision Tree"
   ]
  },
  {
   "cell_type": "code",
   "execution_count": 19,
   "id": "f962e0b9",
   "metadata": {},
   "outputs": [],
   "source": [
    "logger.info('MODEL - DECICION TREE STARTS!')"
   ]
  },
  {
   "cell_type": "code",
   "execution_count": 20,
   "id": "a5acf228",
   "metadata": {},
   "outputs": [
    {
     "data": {
      "text/plain": [
       "DecisionTreeClassifier()"
      ]
     },
     "execution_count": 20,
     "metadata": {},
     "output_type": "execute_result"
    }
   ],
   "source": [
    "D_tree = DecisionTreeClassifier()\n",
    "D_tree.fit(X_train_scaled,y_train)"
   ]
  },
  {
   "cell_type": "code",
   "execution_count": 21,
   "id": "47f46bc8",
   "metadata": {},
   "outputs": [
    {
     "name": "stdout",
     "output_type": "stream",
     "text": [
      "\n",
      "Training Accuracy Score:  0.9996575928779319\n",
      "Testing Accuracy Score:  0.7482451634994007\n",
      "Precision on test data:  0.7455119680851063\n",
      "Recall on test data:  0.7608142493638677\n",
      "F1 score on test data:  0.7530853832591722\n",
      "\n",
      "========================================================\n",
      "Classification Report on Train data\n",
      "              precision    recall  f1-score   support\n",
      "\n",
      "           0       1.00      1.00      1.00     17589\n",
      "           1       1.00      1.00      1.00     17457\n",
      "\n",
      "    accuracy                           1.00     35046\n",
      "   macro avg       1.00      1.00      1.00     35046\n",
      "weighted avg       1.00      1.00      1.00     35046\n",
      "\n",
      "\n",
      "========================================================\n",
      "Classification Report on Test data\n",
      "              precision    recall  f1-score   support\n",
      "\n",
      "           0       0.74      0.75      0.74      5666\n",
      "           1       0.76      0.75      0.75      6016\n",
      "\n",
      "    accuracy                           0.75     11682\n",
      "   macro avg       0.75      0.75      0.75     11682\n",
      "weighted avg       0.75      0.75      0.75     11682\n",
      "\n",
      "\n",
      "========================================================\n"
     ]
    },
    {
     "data": {
      "image/png": "[encoded data removed]",
      "text/plain": [
       "<Figure size 1400x600 with 3 Axes>"
      ]
     },
     "metadata": {},
     "output_type": "display_data"
    },
    {
     "data": {
      "text/plain": [
       "{'Train accuracy': 0.9996575928779319,\n",
       " 'Test accuracy': 0.7482451634994007,\n",
       " 'Precision': 0.7455119680851063,\n",
       " 'Recall': 0.7608142493638677,\n",
       " 'F1 Score': 0.7530853832591722}"
      ]
     },
     "execution_count": 21,
     "metadata": {},
     "output_type": "execute_result"
    }
   ],
   "source": [
    "helper(D_tree,X_train_scaled,y_train,X_test_scaled,y_test)"
   ]
  },
  {
   "cell_type": "code",
   "execution_count": 22,
   "id": "8fe4c090",
   "metadata": {},
   "outputs": [],
   "source": [
    "logger.info('MODEL - DECICION TREE ENDS!')"
   ]
  },
  {
   "cell_type": "markdown",
   "id": "8af27382",
   "metadata": {},
   "source": [
    "# 3.Random Forest"
   ]
  },
  {
   "cell_type": "code",
   "execution_count": 23,
   "id": "c8e9fe2c",
   "metadata": {},
   "outputs": [],
   "source": [
    "logger.info('MODEL - RANDOM FOREST STARTS!')"
   ]
  },
  {
   "cell_type": "code",
   "execution_count": 24,
   "id": "3732ff8b",
   "metadata": {},
   "outputs": [
    {
     "data": {
      "text/plain": [
       "RandomForestClassifier()"
      ]
     },
     "execution_count": 24,
     "metadata": {},
     "output_type": "execute_result"
    }
   ],
   "source": [
    "RF = RandomForestClassifier()\n",
    "RF.fit(X_train_scaled,y_train)"
   ]
  },
  {
   "cell_type": "code",
   "execution_count": 25,
   "id": "7f1c3f2e",
   "metadata": {},
   "outputs": [
    {
     "name": "stdout",
     "output_type": "stream",
     "text": [
      "\n",
      "Training Accuracy Score:  0.9996575928779319\n",
      "Testing Accuracy Score:  0.8412942989214176\n",
      "Precision on test data:  0.8592\n",
      "Recall on test data:  0.8198473282442749\n",
      "F1 score on test data:  0.8390625\n",
      "\n",
      "========================================================\n",
      "Classification Report on Train data\n",
      "              precision    recall  f1-score   support\n",
      "\n",
      "           0       1.00      1.00      1.00     17581\n",
      "           1       1.00      1.00      1.00     17465\n",
      "\n",
      "    accuracy                           1.00     35046\n",
      "   macro avg       1.00      1.00      1.00     35046\n",
      "weighted avg       1.00      1.00      1.00     35046\n",
      "\n",
      "\n",
      "========================================================\n",
      "Classification Report on Test data\n",
      "              precision    recall  f1-score   support\n",
      "\n",
      "           0       0.86      0.82      0.84      6057\n",
      "           1       0.82      0.86      0.84      5625\n",
      "\n",
      "    accuracy                           0.84     11682\n",
      "   macro avg       0.84      0.84      0.84     11682\n",
      "weighted avg       0.84      0.84      0.84     11682\n",
      "\n",
      "\n",
      "========================================================\n"
     ]
    },
    {
     "data": {
      "image/png": "[encoded data removed]",
      "text/plain": [
       "<Figure size 1400x600 with 3 Axes>"
      ]
     },
     "metadata": {},
     "output_type": "display_data"
    },
    {
     "data": {
      "text/plain": [
       "{'Train accuracy': 0.9996575928779319,\n",
       " 'Test accuracy': 0.8412942989214176,\n",
       " 'Precision': 0.8592,\n",
       " 'Recall': 0.8198473282442749,\n",
       " 'F1 Score': 0.8390625}"
      ]
     },
     "execution_count": 25,
     "metadata": {},
     "output_type": "execute_result"
    }
   ],
   "source": [
    "helper(RF,X_train_scaled,y_train,X_test_scaled,y_test)"
   ]
  },
  {
   "cell_type": "code",
   "execution_count": 26,
   "id": "d29ee175",
   "metadata": {},
   "outputs": [],
   "source": [
    "logger.info('MODEL - RANDOM FOREST ENDS!')"
   ]
  },
  {
   "cell_type": "markdown",
   "id": "a596d3d5",
   "metadata": {},
   "source": [
    "# 4. Support Vector Machine"
   ]
  },
  {
   "cell_type": "code",
   "execution_count": 27,
   "id": "61841cda",
   "metadata": {},
   "outputs": [],
   "source": [
    "logger.info('MODEL - SUPPORT VECTOR MACHINE STARTS!')"
   ]
  },
  {
   "cell_type": "code",
   "execution_count": 28,
   "id": "40cc7380",
   "metadata": {},
   "outputs": [
    {
     "data": {
      "text/plain": [
       "SVC()"
      ]
     },
     "execution_count": 28,
     "metadata": {},
     "output_type": "execute_result"
    }
   ],
   "source": [
    "svm = SVC()\n",
    "svm.fit(X_train_scaled,y_train)"
   ]
  },
  {
   "cell_type": "code",
   "execution_count": 29,
   "id": "6239ec13",
   "metadata": {},
   "outputs": [
    {
     "name": "stdout",
     "output_type": "stream",
     "text": [
      "\n",
      "Training Accuracy Score:  0.7739256976545112\n",
      "Testing Accuracy Score:  0.7563773326485191\n",
      "Precision on test data:  0.7754290876242096\n",
      "Recall on test data:  0.7280746395250212\n",
      "F1 score on test data:  0.7510061242344706\n",
      "\n",
      "========================================================\n",
      "Classification Report on Train data\n",
      "              precision    recall  f1-score   support\n",
      "\n",
      "           0       0.80      0.76      0.78     18514\n",
      "           1       0.75      0.79      0.77     16532\n",
      "\n",
      "    accuracy                           0.77     35046\n",
      "   macro avg       0.77      0.77      0.77     35046\n",
      "weighted avg       0.78      0.77      0.77     35046\n",
      "\n",
      "\n",
      "========================================================\n",
      "Classification Report on Test data\n",
      "              precision    recall  f1-score   support\n",
      "\n",
      "           0       0.79      0.74      0.76      6147\n",
      "           1       0.73      0.78      0.75      5535\n",
      "\n",
      "    accuracy                           0.76     11682\n",
      "   macro avg       0.76      0.76      0.76     11682\n",
      "weighted avg       0.76      0.76      0.76     11682\n",
      "\n",
      "\n",
      "========================================================\n"
     ]
    },
    {
     "data": {
      "image/png": "[encoded data removed]",
      "text/plain": [
       "<Figure size 1400x600 with 3 Axes>"
      ]
     },
     "metadata": {},
     "output_type": "display_data"
    },
    {
     "data": {
      "text/plain": [
       "{'Train accuracy': 0.7739256976545112,\n",
       " 'Test accuracy': 0.7563773326485191,\n",
       " 'Precision': 0.7754290876242096,\n",
       " 'Recall': 0.7280746395250212,\n",
       " 'F1 Score': 0.7510061242344706}"
      ]
     },
     "execution_count": 29,
     "metadata": {},
     "output_type": "execute_result"
    }
   ],
   "source": [
    "helper(svm,X_train_scaled,y_train,X_test_scaled,y_test)"
   ]
  },
  {
   "cell_type": "code",
   "execution_count": 30,
   "id": "783460f4",
   "metadata": {},
   "outputs": [],
   "source": [
    "logger.info('MODEL - SUPPORT VECTOR MACHINE ENDS!')"
   ]
  },
  {
   "cell_type": "code",
   "execution_count": 31,
   "id": "783d206c",
   "metadata": {},
   "outputs": [],
   "source": [
    "model={'Logistic Regression':{'Train accuracy': 0.7235918507104948,\n",
    " 'Test accuracy': 0.7114363978770758,\n",
    " 'Precision': 0.7158002735978112,\n",
    " 'Recall': 0.7100932994062765,\n",
    " 'F1 Score': 0.7129353657498084},'Decicion Tree':{'Train accuracy': 0.9996575928779319,\n",
    " 'Test accuracy': 0.7482451634994007,\n",
    " 'Precision': 0.7455119680851063,\n",
    " 'Recall': 0.7608142493638677,\n",
    " 'F1 Score': 0.7530853832591722},'Random Forest':{'Train accuracy': 0.9996575928779319,\n",
    " 'Test accuracy': 0.8412942989214176,\n",
    " 'Precision': 0.8592,\n",
    " 'Recall': 0.8198473282442749,\n",
    " 'F1 Score': 0.8390625},'SVC':{'Train accuracy': 0.7718997888489414,\n",
    " 'Test accuracy': 0.7563773326485191,\n",
    " 'Precision': 0.7753296008668954,\n",
    " 'Recall': 0.7282442748091603,\n",
    " 'F1 Score': 0.7510496850944717}}"
   ]
  },
  {
   "cell_type": "code",
   "execution_count": 32,
   "id": "c574c44f",
   "metadata": {},
   "outputs": [
    {
     "data": {
      "text/html": [
       "<div>\n",
       "<style scoped>\n",
       "    .dataframe tbody tr th:only-of-type {\n",
       "        vertical-align: middle;\n",
       "    }\n",
       "\n",
       "    .dataframe tbody tr th {\n",
       "        vertical-align: top;\n",
       "    }\n",
       "\n",
       "    .dataframe thead th {\n",
       "        text-align: right;\n",
       "    }\n",
       "</style>\n",
       "<table border=\"1\" class=\"dataframe\">\n",
       "  <thead>\n",
       "    <tr style=\"text-align: right;\">\n",
       "      <th></th>\n",
       "      <th>Logistic Regression</th>\n",
       "      <th>Decicion Tree</th>\n",
       "      <th>Random Forest</th>\n",
       "      <th>SVC</th>\n",
       "    </tr>\n",
       "  </thead>\n",
       "  <tbody>\n",
       "    <tr>\n",
       "      <th>Train accuracy</th>\n",
       "      <td>0.724134</td>\n",
       "      <td>0.999601</td>\n",
       "      <td>0.999601</td>\n",
       "      <td>0.771900</td>\n",
       "    </tr>\n",
       "    <tr>\n",
       "      <th>Test accuracy</th>\n",
       "      <td>0.715374</td>\n",
       "      <td>0.749786</td>\n",
       "      <td>0.845146</td>\n",
       "      <td>0.756377</td>\n",
       "    </tr>\n",
       "    <tr>\n",
       "      <th>Precision</th>\n",
       "      <td>0.718463</td>\n",
       "      <td>0.744972</td>\n",
       "      <td>0.861082</td>\n",
       "      <td>0.775330</td>\n",
       "    </tr>\n",
       "    <tr>\n",
       "      <th>Recall</th>\n",
       "      <td>0.716879</td>\n",
       "      <td>0.766582</td>\n",
       "      <td>0.826463</td>\n",
       "      <td>0.728244</td>\n",
       "    </tr>\n",
       "    <tr>\n",
       "      <th>F1 Score</th>\n",
       "      <td>0.717670</td>\n",
       "      <td>0.755622</td>\n",
       "      <td>0.843417</td>\n",
       "      <td>0.751050</td>\n",
       "    </tr>\n",
       "  </tbody>\n",
       "</table>\n",
       "</div>"
      ],
      "text/plain": [
       "                Logistic Regression  Decicion Tree  Random Forest       SVC\n",
       "Train accuracy             0.724134       0.999601       0.999601  0.771900\n",
       "Test accuracy              0.715374       0.749786       0.845146  0.756377\n",
       "Precision                  0.718463       0.744972       0.861082  0.775330\n",
       "Recall                     0.716879       0.766582       0.826463  0.728244\n",
       "F1 Score                   0.717670       0.755622       0.843417  0.751050"
      ]
     },
     "execution_count": 32,
     "metadata": {},
     "output_type": "execute_result"
    }
   ],
   "source": [
    "model=pd.DataFrame(model)\n",
    "model"
   ]
  },
  {
   "cell_type": "markdown",
   "id": "033387a7",
   "metadata": {},
   "source": [
    "    All model Accuracy was good but Decicion Tree and Random Forest was to good\n",
    "    Decicion Tree vs Random Frorest\n",
    "- Both training accuracy was good but Random Forest test accuracy was also high\n",
    "-  F1 Score is also high for Random Forest \n",
    "- So i will go with Random Forest"
   ]
  },
  {
   "cell_type": "code",
   "execution_count": 33,
   "id": "17140654",
   "metadata": {},
   "outputs": [],
   "source": [
    "logger.info('MODELING ENDS!')"
   ]
  },
  {
   "cell_type": "markdown",
   "id": "a590757d",
   "metadata": {},
   "source": [
    "# Feature Engineering"
   ]
  },
  {
   "cell_type": "code",
   "execution_count": 34,
   "id": "ecdb026d",
   "metadata": {},
   "outputs": [],
   "source": [
    "logger.info('FEATURE ENGINEERING STARTS!')"
   ]
  },
  {
   "cell_type": "code",
   "execution_count": 35,
   "id": "627575a5",
   "metadata": {},
   "outputs": [
    {
     "data": {
      "text/html": [
       "<div>\n",
       "<style scoped>\n",
       "    .dataframe tbody tr th:only-of-type {\n",
       "        vertical-align: middle;\n",
       "    }\n",
       "\n",
       "    .dataframe tbody tr th {\n",
       "        vertical-align: top;\n",
       "    }\n",
       "\n",
       "    .dataframe thead th {\n",
       "        text-align: right;\n",
       "    }\n",
       "</style>\n",
       "<table border=\"1\" class=\"dataframe\">\n",
       "  <thead>\n",
       "    <tr style=\"text-align: right;\">\n",
       "      <th></th>\n",
       "      <th>LIMIT_BAL</th>\n",
       "      <th>SEX</th>\n",
       "      <th>EDUCATION</th>\n",
       "      <th>MARRIAGE</th>\n",
       "      <th>AGE</th>\n",
       "      <th>PAY_0</th>\n",
       "      <th>PAY_2</th>\n",
       "      <th>PAY_3</th>\n",
       "      <th>PAY_4</th>\n",
       "      <th>PAY_5</th>\n",
       "      <th>...</th>\n",
       "      <th>BILL_AMT4</th>\n",
       "      <th>BILL_AMT5</th>\n",
       "      <th>BILL_AMT6</th>\n",
       "      <th>PAY_AMT1</th>\n",
       "      <th>PAY_AMT2</th>\n",
       "      <th>PAY_AMT3</th>\n",
       "      <th>PAY_AMT4</th>\n",
       "      <th>PAY_AMT5</th>\n",
       "      <th>PAY_AMT6</th>\n",
       "      <th>default</th>\n",
       "    </tr>\n",
       "  </thead>\n",
       "  <tbody>\n",
       "    <tr>\n",
       "      <th>0</th>\n",
       "      <td>20000.000000</td>\n",
       "      <td>2</td>\n",
       "      <td>2</td>\n",
       "      <td>1</td>\n",
       "      <td>24.000000</td>\n",
       "      <td>2</td>\n",
       "      <td>2</td>\n",
       "      <td>-1</td>\n",
       "      <td>-1</td>\n",
       "      <td>-2</td>\n",
       "      <td>...</td>\n",
       "      <td>0</td>\n",
       "      <td>0</td>\n",
       "      <td>0</td>\n",
       "      <td>0</td>\n",
       "      <td>689</td>\n",
       "      <td>0</td>\n",
       "      <td>0</td>\n",
       "      <td>0</td>\n",
       "      <td>0</td>\n",
       "      <td>1</td>\n",
       "    </tr>\n",
       "    <tr>\n",
       "      <th>1</th>\n",
       "      <td>120000.000000</td>\n",
       "      <td>2</td>\n",
       "      <td>2</td>\n",
       "      <td>2</td>\n",
       "      <td>26.000000</td>\n",
       "      <td>-1</td>\n",
       "      <td>2</td>\n",
       "      <td>0</td>\n",
       "      <td>0</td>\n",
       "      <td>0</td>\n",
       "      <td>...</td>\n",
       "      <td>3272</td>\n",
       "      <td>3455</td>\n",
       "      <td>3261</td>\n",
       "      <td>0</td>\n",
       "      <td>1000</td>\n",
       "      <td>1000</td>\n",
       "      <td>1000</td>\n",
       "      <td>0</td>\n",
       "      <td>2000</td>\n",
       "      <td>1</td>\n",
       "    </tr>\n",
       "    <tr>\n",
       "      <th>2</th>\n",
       "      <td>90000.000000</td>\n",
       "      <td>2</td>\n",
       "      <td>2</td>\n",
       "      <td>2</td>\n",
       "      <td>34.000000</td>\n",
       "      <td>0</td>\n",
       "      <td>0</td>\n",
       "      <td>0</td>\n",
       "      <td>0</td>\n",
       "      <td>0</td>\n",
       "      <td>...</td>\n",
       "      <td>14331</td>\n",
       "      <td>14948</td>\n",
       "      <td>15549</td>\n",
       "      <td>1518</td>\n",
       "      <td>1500</td>\n",
       "      <td>1000</td>\n",
       "      <td>1000</td>\n",
       "      <td>1000</td>\n",
       "      <td>5000</td>\n",
       "      <td>0</td>\n",
       "    </tr>\n",
       "    <tr>\n",
       "      <th>3</th>\n",
       "      <td>50000.000000</td>\n",
       "      <td>2</td>\n",
       "      <td>2</td>\n",
       "      <td>1</td>\n",
       "      <td>37.000000</td>\n",
       "      <td>0</td>\n",
       "      <td>0</td>\n",
       "      <td>0</td>\n",
       "      <td>0</td>\n",
       "      <td>0</td>\n",
       "      <td>...</td>\n",
       "      <td>28314</td>\n",
       "      <td>28959</td>\n",
       "      <td>29547</td>\n",
       "      <td>2000</td>\n",
       "      <td>2019</td>\n",
       "      <td>1200</td>\n",
       "      <td>1100</td>\n",
       "      <td>1069</td>\n",
       "      <td>1000</td>\n",
       "      <td>0</td>\n",
       "    </tr>\n",
       "    <tr>\n",
       "      <th>4</th>\n",
       "      <td>50000.000000</td>\n",
       "      <td>1</td>\n",
       "      <td>2</td>\n",
       "      <td>1</td>\n",
       "      <td>57.000000</td>\n",
       "      <td>-1</td>\n",
       "      <td>0</td>\n",
       "      <td>-1</td>\n",
       "      <td>0</td>\n",
       "      <td>0</td>\n",
       "      <td>...</td>\n",
       "      <td>20940</td>\n",
       "      <td>19146</td>\n",
       "      <td>19131</td>\n",
       "      <td>2000</td>\n",
       "      <td>36681</td>\n",
       "      <td>10000</td>\n",
       "      <td>9000</td>\n",
       "      <td>689</td>\n",
       "      <td>679</td>\n",
       "      <td>0</td>\n",
       "    </tr>\n",
       "    <tr>\n",
       "      <th>...</th>\n",
       "      <td>...</td>\n",
       "      <td>...</td>\n",
       "      <td>...</td>\n",
       "      <td>...</td>\n",
       "      <td>...</td>\n",
       "      <td>...</td>\n",
       "      <td>...</td>\n",
       "      <td>...</td>\n",
       "      <td>...</td>\n",
       "      <td>...</td>\n",
       "      <td>...</td>\n",
       "      <td>...</td>\n",
       "      <td>...</td>\n",
       "      <td>...</td>\n",
       "      <td>...</td>\n",
       "      <td>...</td>\n",
       "      <td>...</td>\n",
       "      <td>...</td>\n",
       "      <td>...</td>\n",
       "      <td>...</td>\n",
       "      <td>...</td>\n",
       "    </tr>\n",
       "    <tr>\n",
       "      <th>46723</th>\n",
       "      <td>80000.000000</td>\n",
       "      <td>1</td>\n",
       "      <td>1</td>\n",
       "      <td>1</td>\n",
       "      <td>35.945412</td>\n",
       "      <td>2</td>\n",
       "      <td>1</td>\n",
       "      <td>1</td>\n",
       "      <td>2</td>\n",
       "      <td>2</td>\n",
       "      <td>...</td>\n",
       "      <td>41087</td>\n",
       "      <td>40597</td>\n",
       "      <td>42101</td>\n",
       "      <td>3308</td>\n",
       "      <td>1429</td>\n",
       "      <td>2746</td>\n",
       "      <td>476</td>\n",
       "      <td>2238</td>\n",
       "      <td>2046</td>\n",
       "      <td>1</td>\n",
       "    </tr>\n",
       "    <tr>\n",
       "      <th>46724</th>\n",
       "      <td>200000.000000</td>\n",
       "      <td>1</td>\n",
       "      <td>1</td>\n",
       "      <td>1</td>\n",
       "      <td>42.667513</td>\n",
       "      <td>-1</td>\n",
       "      <td>-1</td>\n",
       "      <td>-1</td>\n",
       "      <td>-1</td>\n",
       "      <td>-1</td>\n",
       "      <td>...</td>\n",
       "      <td>480</td>\n",
       "      <td>2517</td>\n",
       "      <td>0</td>\n",
       "      <td>290</td>\n",
       "      <td>79</td>\n",
       "      <td>480</td>\n",
       "      <td>2517</td>\n",
       "      <td>0</td>\n",
       "      <td>228</td>\n",
       "      <td>1</td>\n",
       "    </tr>\n",
       "    <tr>\n",
       "      <th>46725</th>\n",
       "      <td>120000.000000</td>\n",
       "      <td>1</td>\n",
       "      <td>2</td>\n",
       "      <td>2</td>\n",
       "      <td>30.443648</td>\n",
       "      <td>1</td>\n",
       "      <td>-2</td>\n",
       "      <td>-2</td>\n",
       "      <td>-2</td>\n",
       "      <td>-2</td>\n",
       "      <td>...</td>\n",
       "      <td>-1946</td>\n",
       "      <td>-1946</td>\n",
       "      <td>-1946</td>\n",
       "      <td>2</td>\n",
       "      <td>0</td>\n",
       "      <td>0</td>\n",
       "      <td>0</td>\n",
       "      <td>0</td>\n",
       "      <td>0</td>\n",
       "      <td>1</td>\n",
       "    </tr>\n",
       "    <tr>\n",
       "      <th>46726</th>\n",
       "      <td>194668.588007</td>\n",
       "      <td>1</td>\n",
       "      <td>2</td>\n",
       "      <td>1</td>\n",
       "      <td>33.132565</td>\n",
       "      <td>6</td>\n",
       "      <td>5</td>\n",
       "      <td>4</td>\n",
       "      <td>3</td>\n",
       "      <td>2</td>\n",
       "      <td>...</td>\n",
       "      <td>209623</td>\n",
       "      <td>203659</td>\n",
       "      <td>193689</td>\n",
       "      <td>0</td>\n",
       "      <td>153</td>\n",
       "      <td>0</td>\n",
       "      <td>0</td>\n",
       "      <td>75986</td>\n",
       "      <td>4899</td>\n",
       "      <td>1</td>\n",
       "    </tr>\n",
       "    <tr>\n",
       "      <th>46727</th>\n",
       "      <td>140000.000000</td>\n",
       "      <td>2</td>\n",
       "      <td>1</td>\n",
       "      <td>1</td>\n",
       "      <td>27.260045</td>\n",
       "      <td>2</td>\n",
       "      <td>2</td>\n",
       "      <td>2</td>\n",
       "      <td>2</td>\n",
       "      <td>2</td>\n",
       "      <td>...</td>\n",
       "      <td>99666</td>\n",
       "      <td>100041</td>\n",
       "      <td>100237</td>\n",
       "      <td>4426</td>\n",
       "      <td>3808</td>\n",
       "      <td>3626</td>\n",
       "      <td>2589</td>\n",
       "      <td>2028</td>\n",
       "      <td>2567</td>\n",
       "      <td>1</td>\n",
       "    </tr>\n",
       "  </tbody>\n",
       "</table>\n",
       "<p>46728 rows × 24 columns</p>\n",
       "</div>"
      ],
      "text/plain": [
       "           LIMIT_BAL  SEX  EDUCATION  MARRIAGE        AGE  PAY_0  PAY_2  \\\n",
       "0       20000.000000    2          2         1  24.000000      2      2   \n",
       "1      120000.000000    2          2         2  26.000000     -1      2   \n",
       "2       90000.000000    2          2         2  34.000000      0      0   \n",
       "3       50000.000000    2          2         1  37.000000      0      0   \n",
       "4       50000.000000    1          2         1  57.000000     -1      0   \n",
       "...              ...  ...        ...       ...        ...    ...    ...   \n",
       "46723   80000.000000    1          1         1  35.945412      2      1   \n",
       "46724  200000.000000    1          1         1  42.667513     -1     -1   \n",
       "46725  120000.000000    1          2         2  30.443648      1     -2   \n",
       "46726  194668.588007    1          2         1  33.132565      6      5   \n",
       "46727  140000.000000    2          1         1  27.260045      2      2   \n",
       "\n",
       "       PAY_3  PAY_4  PAY_5  ...  BILL_AMT4  BILL_AMT5  BILL_AMT6  PAY_AMT1  \\\n",
       "0         -1     -1     -2  ...          0          0          0         0   \n",
       "1          0      0      0  ...       3272       3455       3261         0   \n",
       "2          0      0      0  ...      14331      14948      15549      1518   \n",
       "3          0      0      0  ...      28314      28959      29547      2000   \n",
       "4         -1      0      0  ...      20940      19146      19131      2000   \n",
       "...      ...    ...    ...  ...        ...        ...        ...       ...   \n",
       "46723      1      2      2  ...      41087      40597      42101      3308   \n",
       "46724     -1     -1     -1  ...        480       2517          0       290   \n",
       "46725     -2     -2     -2  ...      -1946      -1946      -1946         2   \n",
       "46726      4      3      2  ...     209623     203659     193689         0   \n",
       "46727      2      2      2  ...      99666     100041     100237      4426   \n",
       "\n",
       "       PAY_AMT2  PAY_AMT3  PAY_AMT4  PAY_AMT5  PAY_AMT6  default  \n",
       "0           689         0         0         0         0        1  \n",
       "1          1000      1000      1000         0      2000        1  \n",
       "2          1500      1000      1000      1000      5000        0  \n",
       "3          2019      1200      1100      1069      1000        0  \n",
       "4         36681     10000      9000       689       679        0  \n",
       "...         ...       ...       ...       ...       ...      ...  \n",
       "46723      1429      2746       476      2238      2046        1  \n",
       "46724        79       480      2517         0       228        1  \n",
       "46725         0         0         0         0         0        1  \n",
       "46726       153         0         0     75986      4899        1  \n",
       "46727      3808      3626      2589      2028      2567        1  \n",
       "\n",
       "[46728 rows x 24 columns]"
      ]
     },
     "execution_count": 35,
     "metadata": {},
     "output_type": "execute_result"
    }
   ],
   "source": [
    "CC_DF_FE = CC_DF_final.copy()\n",
    "CC_DF_FE"
   ]
  },
  {
   "cell_type": "code",
   "execution_count": 36,
   "id": "fe9150f4",
   "metadata": {},
   "outputs": [
    {
     "data": {
      "text/plain": [
       "Index(['LIMIT_BAL', 'SEX', 'EDUCATION', 'MARRIAGE', 'AGE', 'PAY_0', 'PAY_2',\n",
       "       'PAY_3', 'PAY_4', 'PAY_5', 'PAY_6', 'BILL_AMT1', 'BILL_AMT2',\n",
       "       'BILL_AMT3', 'BILL_AMT4', 'BILL_AMT5', 'BILL_AMT6', 'PAY_AMT1',\n",
       "       'PAY_AMT2', 'PAY_AMT3', 'PAY_AMT4', 'PAY_AMT5', 'PAY_AMT6', 'default'],\n",
       "      dtype='object')"
      ]
     },
     "execution_count": 36,
     "metadata": {},
     "output_type": "execute_result"
    }
   ],
   "source": [
    "CC_DF_FE.columns"
   ]
  },
  {
   "cell_type": "markdown",
   "id": "964eedb8",
   "metadata": {},
   "source": [
    "# AVG_BILL_AMT (creating new column)"
   ]
  },
  {
   "cell_type": "code",
   "execution_count": 37,
   "id": "0178519f",
   "metadata": {},
   "outputs": [],
   "source": [
    "CC_DF_FE['AVG_BILL_AMT']=(CC_DF_FE['BILL_AMT1']+CC_DF_FE['BILL_AMT2']+CC_DF_FE['BILL_AMT3']+CC_DF_FE['BILL_AMT4']+CC_DF_FE['BILL_AMT5']+CC_DF_FE['BILL_AMT6']/6)\n"
   ]
  },
  {
   "cell_type": "code",
   "execution_count": 38,
   "id": "6948b319",
   "metadata": {},
   "outputs": [],
   "source": [
    "X=CC_DF_FE.drop('default',axis=1)\n",
    "y=CC_DF_FE['default']"
   ]
  },
  {
   "cell_type": "code",
   "execution_count": 39,
   "id": "08659167",
   "metadata": {},
   "outputs": [],
   "source": [
    "X_train,X_test,y_train,y_test = train_test_split(X,y,test_size=0.25)"
   ]
  },
  {
   "cell_type": "code",
   "execution_count": 40,
   "id": "a8f3d4a9",
   "metadata": {},
   "outputs": [],
   "source": [
    "X_train_scaled=scaler.fit_transform(X_train)"
   ]
  },
  {
   "cell_type": "code",
   "execution_count": 41,
   "id": "d0bb5a14",
   "metadata": {},
   "outputs": [],
   "source": [
    "X_test_scaled=scaler.transform(X_test)"
   ]
  },
  {
   "cell_type": "code",
   "execution_count": 42,
   "id": "b4c8c784",
   "metadata": {},
   "outputs": [
    {
     "data": {
      "text/plain": [
       "RandomForestClassifier()"
      ]
     },
     "execution_count": 42,
     "metadata": {},
     "output_type": "execute_result"
    }
   ],
   "source": [
    "RF.fit(X_train_scaled,y_train)"
   ]
  },
  {
   "cell_type": "code",
   "execution_count": 43,
   "id": "8c2f1bfd",
   "metadata": {},
   "outputs": [
    {
     "name": "stdout",
     "output_type": "stream",
     "text": [
      "\n",
      "Training Accuracy Score:  0.9995719910974148\n",
      "Testing Accuracy Score:  0.8449751754836501\n",
      "Precision on test data:  0.8582220660576247\n",
      "Recall on test data:  0.8295126507047037\n",
      "F1 score on test data:  0.8436231758915466\n",
      "\n",
      "========================================================\n",
      "Classification Report on Train data\n",
      "              precision    recall  f1-score   support\n",
      "\n",
      "           0       1.00      1.00      1.00     17574\n",
      "           1       1.00      1.00      1.00     17472\n",
      "\n",
      "    accuracy                           1.00     35046\n",
      "   macro avg       1.00      1.00      1.00     35046\n",
      "weighted avg       1.00      1.00      1.00     35046\n",
      "\n",
      "\n",
      "========================================================\n",
      "Classification Report on Test data\n",
      "              precision    recall  f1-score   support\n",
      "\n",
      "           0       0.86      0.83      0.85      5990\n",
      "           1       0.83      0.86      0.84      5692\n",
      "\n",
      "    accuracy                           0.84     11682\n",
      "   macro avg       0.85      0.85      0.84     11682\n",
      "weighted avg       0.85      0.84      0.84     11682\n",
      "\n",
      "\n",
      "========================================================\n"
     ]
    },
    {
     "data": {
      "image/png": "[encoded data removed]",
      "text/plain": [
       "<Figure size 1400x600 with 3 Axes>"
      ]
     },
     "metadata": {},
     "output_type": "display_data"
    },
    {
     "data": {
      "text/plain": [
       "{'Train accuracy': 0.9995719910974148,\n",
       " 'Test accuracy': 0.8449751754836501,\n",
       " 'Precision': 0.8582220660576247,\n",
       " 'Recall': 0.8295126507047037,\n",
       " 'F1 Score': 0.8436231758915466}"
      ]
     },
     "execution_count": 43,
     "metadata": {},
     "output_type": "execute_result"
    }
   ],
   "source": [
    "helper(RF,X_train_scaled,y_train,X_test_scaled,y_test)"
   ]
  },
  {
   "cell_type": "code",
   "execution_count": 44,
   "id": "181a0c1c",
   "metadata": {},
   "outputs": [],
   "source": [
    "model['RF with with avg bill']= [ 0.9995719910974148, 0.8475432288991611, 0.8560154331813399, 0.8356445814072933, 0.8457073551069912]"
   ]
  },
  {
   "cell_type": "markdown",
   "id": "b93c79e7",
   "metadata": {},
   "source": [
    "# AVG_PAY_AMT (creating new column)"
   ]
  },
  {
   "cell_type": "code",
   "execution_count": 45,
   "id": "51ad721b",
   "metadata": {},
   "outputs": [
    {
     "data": {
      "text/html": [
       "<div>\n",
       "<style scoped>\n",
       "    .dataframe tbody tr th:only-of-type {\n",
       "        vertical-align: middle;\n",
       "    }\n",
       "\n",
       "    .dataframe tbody tr th {\n",
       "        vertical-align: top;\n",
       "    }\n",
       "\n",
       "    .dataframe thead th {\n",
       "        text-align: right;\n",
       "    }\n",
       "</style>\n",
       "<table border=\"1\" class=\"dataframe\">\n",
       "  <thead>\n",
       "    <tr style=\"text-align: right;\">\n",
       "      <th></th>\n",
       "      <th>LIMIT_BAL</th>\n",
       "      <th>SEX</th>\n",
       "      <th>EDUCATION</th>\n",
       "      <th>MARRIAGE</th>\n",
       "      <th>AGE</th>\n",
       "      <th>PAY_0</th>\n",
       "      <th>PAY_2</th>\n",
       "      <th>PAY_3</th>\n",
       "      <th>PAY_4</th>\n",
       "      <th>PAY_5</th>\n",
       "      <th>...</th>\n",
       "      <th>BILL_AMT6</th>\n",
       "      <th>PAY_AMT1</th>\n",
       "      <th>PAY_AMT2</th>\n",
       "      <th>PAY_AMT3</th>\n",
       "      <th>PAY_AMT4</th>\n",
       "      <th>PAY_AMT5</th>\n",
       "      <th>PAY_AMT6</th>\n",
       "      <th>default</th>\n",
       "      <th>AVG_BILL_AMT</th>\n",
       "      <th>AVG_PAY_AMT</th>\n",
       "    </tr>\n",
       "  </thead>\n",
       "  <tbody>\n",
       "    <tr>\n",
       "      <th>46723</th>\n",
       "      <td>80000.000000</td>\n",
       "      <td>1</td>\n",
       "      <td>1</td>\n",
       "      <td>1</td>\n",
       "      <td>35.945412</td>\n",
       "      <td>2</td>\n",
       "      <td>1</td>\n",
       "      <td>1</td>\n",
       "      <td>2</td>\n",
       "      <td>2</td>\n",
       "      <td>...</td>\n",
       "      <td>42101</td>\n",
       "      <td>3308</td>\n",
       "      <td>1429</td>\n",
       "      <td>2746</td>\n",
       "      <td>476</td>\n",
       "      <td>2238</td>\n",
       "      <td>2046</td>\n",
       "      <td>1</td>\n",
       "      <td>2.027318e+05</td>\n",
       "      <td>8.000000</td>\n",
       "    </tr>\n",
       "    <tr>\n",
       "      <th>46724</th>\n",
       "      <td>200000.000000</td>\n",
       "      <td>1</td>\n",
       "      <td>1</td>\n",
       "      <td>1</td>\n",
       "      <td>42.667513</td>\n",
       "      <td>-1</td>\n",
       "      <td>-1</td>\n",
       "      <td>-1</td>\n",
       "      <td>-1</td>\n",
       "      <td>-1</td>\n",
       "      <td>...</td>\n",
       "      <td>0</td>\n",
       "      <td>290</td>\n",
       "      <td>79</td>\n",
       "      <td>480</td>\n",
       "      <td>2517</td>\n",
       "      <td>0</td>\n",
       "      <td>228</td>\n",
       "      <td>1</td>\n",
       "      <td>3.774000e+03</td>\n",
       "      <td>-5.166667</td>\n",
       "    </tr>\n",
       "    <tr>\n",
       "      <th>46725</th>\n",
       "      <td>120000.000000</td>\n",
       "      <td>1</td>\n",
       "      <td>2</td>\n",
       "      <td>2</td>\n",
       "      <td>30.443648</td>\n",
       "      <td>1</td>\n",
       "      <td>-2</td>\n",
       "      <td>-2</td>\n",
       "      <td>-2</td>\n",
       "      <td>-2</td>\n",
       "      <td>...</td>\n",
       "      <td>-1946</td>\n",
       "      <td>2</td>\n",
       "      <td>0</td>\n",
       "      <td>0</td>\n",
       "      <td>0</td>\n",
       "      <td>0</td>\n",
       "      <td>0</td>\n",
       "      <td>1</td>\n",
       "      <td>-7.940333e+03</td>\n",
       "      <td>-7.333333</td>\n",
       "    </tr>\n",
       "    <tr>\n",
       "      <th>46726</th>\n",
       "      <td>194668.588007</td>\n",
       "      <td>1</td>\n",
       "      <td>2</td>\n",
       "      <td>1</td>\n",
       "      <td>33.132565</td>\n",
       "      <td>6</td>\n",
       "      <td>5</td>\n",
       "      <td>4</td>\n",
       "      <td>3</td>\n",
       "      <td>2</td>\n",
       "      <td>...</td>\n",
       "      <td>193689</td>\n",
       "      <td>0</td>\n",
       "      <td>153</td>\n",
       "      <td>0</td>\n",
       "      <td>0</td>\n",
       "      <td>75986</td>\n",
       "      <td>4899</td>\n",
       "      <td>1</td>\n",
       "      <td>1.162394e+06</td>\n",
       "      <td>20.000000</td>\n",
       "    </tr>\n",
       "    <tr>\n",
       "      <th>46727</th>\n",
       "      <td>140000.000000</td>\n",
       "      <td>2</td>\n",
       "      <td>1</td>\n",
       "      <td>1</td>\n",
       "      <td>27.260045</td>\n",
       "      <td>2</td>\n",
       "      <td>2</td>\n",
       "      <td>2</td>\n",
       "      <td>2</td>\n",
       "      <td>2</td>\n",
       "      <td>...</td>\n",
       "      <td>100237</td>\n",
       "      <td>4426</td>\n",
       "      <td>3808</td>\n",
       "      <td>3626</td>\n",
       "      <td>2589</td>\n",
       "      <td>2028</td>\n",
       "      <td>2567</td>\n",
       "      <td>1</td>\n",
       "      <td>5.073232e+05</td>\n",
       "      <td>10.333333</td>\n",
       "    </tr>\n",
       "  </tbody>\n",
       "</table>\n",
       "<p>5 rows × 26 columns</p>\n",
       "</div>"
      ],
      "text/plain": [
       "           LIMIT_BAL  SEX  EDUCATION  MARRIAGE        AGE  PAY_0  PAY_2  \\\n",
       "46723   80000.000000    1          1         1  35.945412      2      1   \n",
       "46724  200000.000000    1          1         1  42.667513     -1     -1   \n",
       "46725  120000.000000    1          2         2  30.443648      1     -2   \n",
       "46726  194668.588007    1          2         1  33.132565      6      5   \n",
       "46727  140000.000000    2          1         1  27.260045      2      2   \n",
       "\n",
       "       PAY_3  PAY_4  PAY_5  ...  BILL_AMT6  PAY_AMT1  PAY_AMT2  PAY_AMT3  \\\n",
       "46723      1      2      2  ...      42101      3308      1429      2746   \n",
       "46724     -1     -1     -1  ...          0       290        79       480   \n",
       "46725     -2     -2     -2  ...      -1946         2         0         0   \n",
       "46726      4      3      2  ...     193689         0       153         0   \n",
       "46727      2      2      2  ...     100237      4426      3808      3626   \n",
       "\n",
       "       PAY_AMT4  PAY_AMT5  PAY_AMT6  default  AVG_BILL_AMT  AVG_PAY_AMT  \n",
       "46723       476      2238      2046        1  2.027318e+05     8.000000  \n",
       "46724      2517         0       228        1  3.774000e+03    -5.166667  \n",
       "46725         0         0         0        1 -7.940333e+03    -7.333333  \n",
       "46726         0     75986      4899        1  1.162394e+06    20.000000  \n",
       "46727      2589      2028      2567        1  5.073232e+05    10.333333  \n",
       "\n",
       "[5 rows x 26 columns]"
      ]
     },
     "execution_count": 45,
     "metadata": {},
     "output_type": "execute_result"
    }
   ],
   "source": [
    "CC_DF_FE['AVG_PAY_AMT']=(CC_DF_FE['PAY_0']+CC_DF_FE['PAY_2']+CC_DF_FE['PAY_3']+CC_DF_FE['PAY_4']+CC_DF_FE['PAY_5']+CC_DF_FE['PAY_6']/6)\n",
    "CC_DF_FE.tail()"
   ]
  },
  {
   "cell_type": "code",
   "execution_count": 46,
   "id": "318667f1",
   "metadata": {},
   "outputs": [],
   "source": [
    "X=CC_DF_FE.drop('default',axis=1)\n",
    "y=CC_DF_FE['default']"
   ]
  },
  {
   "cell_type": "code",
   "execution_count": 47,
   "id": "ba3e956f",
   "metadata": {},
   "outputs": [],
   "source": [
    "X_train,X_test,y_train,y_test = train_test_split(X,y,test_size=0.25)"
   ]
  },
  {
   "cell_type": "code",
   "execution_count": 48,
   "id": "9d13b262",
   "metadata": {},
   "outputs": [],
   "source": [
    "X_train_scaled=scaler.fit_transform(X_train)\n",
    "X_test_scaled=scaler.transform(X_test)"
   ]
  },
  {
   "cell_type": "code",
   "execution_count": 49,
   "id": "899bc373",
   "metadata": {},
   "outputs": [
    {
     "data": {
      "text/plain": [
       "RandomForestClassifier()"
      ]
     },
     "execution_count": 49,
     "metadata": {},
     "output_type": "execute_result"
    }
   ],
   "source": [
    "RF.fit(X_train_scaled,y_train)"
   ]
  },
  {
   "cell_type": "code",
   "execution_count": 50,
   "id": "d7de35a2",
   "metadata": {},
   "outputs": [
    {
     "name": "stdout",
     "output_type": "stream",
     "text": [
      "\n",
      "Training Accuracy Score:  0.9996005250242538\n",
      "Testing Accuracy Score:  0.8447183701420989\n",
      "Precision on test data:  0.8612389380530974\n",
      "Recall on test data:  0.8253052917232022\n",
      "F1 score on test data:  0.8428893123159537\n",
      "\n",
      "========================================================\n",
      "Classification Report on Train data\n",
      "              precision    recall  f1-score   support\n",
      "\n",
      "           0       1.00      1.00      1.00     17576\n",
      "           1       1.00      1.00      1.00     17470\n",
      "\n",
      "    accuracy                           1.00     35046\n",
      "   macro avg       1.00      1.00      1.00     35046\n",
      "weighted avg       1.00      1.00      1.00     35046\n",
      "\n",
      "\n",
      "========================================================\n",
      "Classification Report on Test data\n",
      "              precision    recall  f1-score   support\n",
      "\n",
      "           0       0.86      0.83      0.85      6032\n",
      "           1       0.83      0.86      0.84      5650\n",
      "\n",
      "    accuracy                           0.84     11682\n",
      "   macro avg       0.84      0.85      0.84     11682\n",
      "weighted avg       0.85      0.84      0.84     11682\n",
      "\n",
      "\n",
      "========================================================\n"
     ]
    },
    {
     "data": {
      "image/png": "[encoded data removed]",
      "text/plain": [
       "<Figure size 1400x600 with 3 Axes>"
      ]
     },
     "metadata": {},
     "output_type": "display_data"
    },
    {
     "data": {
      "text/plain": [
       "{'Train accuracy': 0.9996005250242538,\n",
       " 'Test accuracy': 0.8447183701420989,\n",
       " 'Precision': 0.8612389380530974,\n",
       " 'Recall': 0.8253052917232022,\n",
       " 'F1 Score': 0.8428893123159537}"
      ]
     },
     "execution_count": 50,
     "metadata": {},
     "output_type": "execute_result"
    }
   ],
   "source": [
    "helper(RF,X_train_scaled,y_train,X_test_scaled,y_test)"
   ]
  },
  {
   "cell_type": "code",
   "execution_count": 51,
   "id": "04a8f38d",
   "metadata": {},
   "outputs": [],
   "source": [
    "model['Random Forest with AVG_PAY']=[0.9995434571705758, 0.842321520287622, 0.8546490915568222, 0.8238324175824175, 0.8389578597656933]"
   ]
  },
  {
   "cell_type": "code",
   "execution_count": 52,
   "id": "d985f547",
   "metadata": {},
   "outputs": [],
   "source": [
    "logger.info('FEATURE ENGINEERING ENDS!')"
   ]
  },
  {
   "cell_type": "code",
   "execution_count": 53,
   "id": "46a8d107",
   "metadata": {},
   "outputs": [
    {
     "data": {
      "text/html": [
       "<div>\n",
       "<style scoped>\n",
       "    .dataframe tbody tr th:only-of-type {\n",
       "        vertical-align: middle;\n",
       "    }\n",
       "\n",
       "    .dataframe tbody tr th {\n",
       "        vertical-align: top;\n",
       "    }\n",
       "\n",
       "    .dataframe thead th {\n",
       "        text-align: right;\n",
       "    }\n",
       "</style>\n",
       "<table border=\"1\" class=\"dataframe\">\n",
       "  <thead>\n",
       "    <tr style=\"text-align: right;\">\n",
       "      <th></th>\n",
       "      <th>Logistic Regression</th>\n",
       "      <th>Decicion Tree</th>\n",
       "      <th>Random Forest</th>\n",
       "      <th>SVC</th>\n",
       "      <th>RF with with avg bill</th>\n",
       "      <th>Random Forest with AVG_PAY</th>\n",
       "    </tr>\n",
       "  </thead>\n",
       "  <tbody>\n",
       "    <tr>\n",
       "      <th>Train accuracy</th>\n",
       "      <td>72.413400</td>\n",
       "      <td>99.960053</td>\n",
       "      <td>99.960053</td>\n",
       "      <td>77.189979</td>\n",
       "      <td>99.957199</td>\n",
       "      <td>99.954346</td>\n",
       "    </tr>\n",
       "    <tr>\n",
       "      <th>Test accuracy</th>\n",
       "      <td>71.537408</td>\n",
       "      <td>74.978600</td>\n",
       "      <td>84.514638</td>\n",
       "      <td>75.637733</td>\n",
       "      <td>84.754323</td>\n",
       "      <td>84.232152</td>\n",
       "    </tr>\n",
       "    <tr>\n",
       "      <th>Precision</th>\n",
       "      <td>71.846311</td>\n",
       "      <td>74.497197</td>\n",
       "      <td>86.108165</td>\n",
       "      <td>77.532960</td>\n",
       "      <td>85.601543</td>\n",
       "      <td>85.464909</td>\n",
       "    </tr>\n",
       "    <tr>\n",
       "      <th>Recall</th>\n",
       "      <td>71.687871</td>\n",
       "      <td>76.658185</td>\n",
       "      <td>82.646310</td>\n",
       "      <td>72.824427</td>\n",
       "      <td>83.564458</td>\n",
       "      <td>82.383242</td>\n",
       "    </tr>\n",
       "    <tr>\n",
       "      <th>F1 Score</th>\n",
       "      <td>71.767003</td>\n",
       "      <td>75.562244</td>\n",
       "      <td>84.341729</td>\n",
       "      <td>75.104969</td>\n",
       "      <td>84.570736</td>\n",
       "      <td>83.895786</td>\n",
       "    </tr>\n",
       "  </tbody>\n",
       "</table>\n",
       "</div>"
      ],
      "text/plain": [
       "                Logistic Regression  Decicion Tree  Random Forest        SVC  \\\n",
       "Train accuracy            72.413400      99.960053      99.960053  77.189979   \n",
       "Test accuracy             71.537408      74.978600      84.514638  75.637733   \n",
       "Precision                 71.846311      74.497197      86.108165  77.532960   \n",
       "Recall                    71.687871      76.658185      82.646310  72.824427   \n",
       "F1 Score                  71.767003      75.562244      84.341729  75.104969   \n",
       "\n",
       "                RF with with avg bill  Random Forest with AVG_PAY  \n",
       "Train accuracy              99.957199                   99.954346  \n",
       "Test accuracy               84.754323                   84.232152  \n",
       "Precision                   85.601543                   85.464909  \n",
       "Recall                      83.564458                   82.383242  \n",
       "F1 Score                    84.570736                   83.895786  "
      ]
     },
     "execution_count": 53,
     "metadata": {},
     "output_type": "execute_result"
    }
   ],
   "source": [
    "model.apply(lambda x:x*100)"
   ]
  },
  {
   "cell_type": "markdown",
   "id": "b174ae18",
   "metadata": {},
   "source": [
    "    Feature Enginering:\n",
    "    > After creating new column Average Bill Amount it healped model F1 score.\n",
    "    > Average Pay Amount was not helpful it actual draged down the F1 Score to 83.89%\n",
    "    > So I will continue with AVG_BILL and Drop AVG_PAY column"
   ]
  },
  {
   "cell_type": "markdown",
   "id": "16a6830c",
   "metadata": {},
   "source": [
    "# Final model training with Random Forest and new column AVG_BILL"
   ]
  },
  {
   "cell_type": "code",
   "execution_count": 54,
   "id": "e01f7131",
   "metadata": {},
   "outputs": [],
   "source": [
    "logger.info('FINAL MODEL BUILDING STARTS!')"
   ]
  },
  {
   "cell_type": "code",
   "execution_count": 55,
   "id": "49e0153e",
   "metadata": {},
   "outputs": [
    {
     "data": {
      "text/html": [
       "<div>\n",
       "<style scoped>\n",
       "    .dataframe tbody tr th:only-of-type {\n",
       "        vertical-align: middle;\n",
       "    }\n",
       "\n",
       "    .dataframe tbody tr th {\n",
       "        vertical-align: top;\n",
       "    }\n",
       "\n",
       "    .dataframe thead th {\n",
       "        text-align: right;\n",
       "    }\n",
       "</style>\n",
       "<table border=\"1\" class=\"dataframe\">\n",
       "  <thead>\n",
       "    <tr style=\"text-align: right;\">\n",
       "      <th></th>\n",
       "      <th>LIMIT_BAL</th>\n",
       "      <th>SEX</th>\n",
       "      <th>EDUCATION</th>\n",
       "      <th>MARRIAGE</th>\n",
       "      <th>AGE</th>\n",
       "      <th>PAY_0</th>\n",
       "      <th>PAY_2</th>\n",
       "      <th>PAY_3</th>\n",
       "      <th>PAY_4</th>\n",
       "      <th>PAY_5</th>\n",
       "      <th>...</th>\n",
       "      <th>BILL_AMT4</th>\n",
       "      <th>BILL_AMT5</th>\n",
       "      <th>BILL_AMT6</th>\n",
       "      <th>PAY_AMT1</th>\n",
       "      <th>PAY_AMT2</th>\n",
       "      <th>PAY_AMT3</th>\n",
       "      <th>PAY_AMT4</th>\n",
       "      <th>PAY_AMT5</th>\n",
       "      <th>PAY_AMT6</th>\n",
       "      <th>default</th>\n",
       "    </tr>\n",
       "  </thead>\n",
       "  <tbody>\n",
       "    <tr>\n",
       "      <th>0</th>\n",
       "      <td>20000.0</td>\n",
       "      <td>2</td>\n",
       "      <td>2</td>\n",
       "      <td>1</td>\n",
       "      <td>24.0</td>\n",
       "      <td>2</td>\n",
       "      <td>2</td>\n",
       "      <td>-1</td>\n",
       "      <td>-1</td>\n",
       "      <td>-2</td>\n",
       "      <td>...</td>\n",
       "      <td>0</td>\n",
       "      <td>0</td>\n",
       "      <td>0</td>\n",
       "      <td>0</td>\n",
       "      <td>689</td>\n",
       "      <td>0</td>\n",
       "      <td>0</td>\n",
       "      <td>0</td>\n",
       "      <td>0</td>\n",
       "      <td>1</td>\n",
       "    </tr>\n",
       "    <tr>\n",
       "      <th>1</th>\n",
       "      <td>120000.0</td>\n",
       "      <td>2</td>\n",
       "      <td>2</td>\n",
       "      <td>2</td>\n",
       "      <td>26.0</td>\n",
       "      <td>-1</td>\n",
       "      <td>2</td>\n",
       "      <td>0</td>\n",
       "      <td>0</td>\n",
       "      <td>0</td>\n",
       "      <td>...</td>\n",
       "      <td>3272</td>\n",
       "      <td>3455</td>\n",
       "      <td>3261</td>\n",
       "      <td>0</td>\n",
       "      <td>1000</td>\n",
       "      <td>1000</td>\n",
       "      <td>1000</td>\n",
       "      <td>0</td>\n",
       "      <td>2000</td>\n",
       "      <td>1</td>\n",
       "    </tr>\n",
       "    <tr>\n",
       "      <th>2</th>\n",
       "      <td>90000.0</td>\n",
       "      <td>2</td>\n",
       "      <td>2</td>\n",
       "      <td>2</td>\n",
       "      <td>34.0</td>\n",
       "      <td>0</td>\n",
       "      <td>0</td>\n",
       "      <td>0</td>\n",
       "      <td>0</td>\n",
       "      <td>0</td>\n",
       "      <td>...</td>\n",
       "      <td>14331</td>\n",
       "      <td>14948</td>\n",
       "      <td>15549</td>\n",
       "      <td>1518</td>\n",
       "      <td>1500</td>\n",
       "      <td>1000</td>\n",
       "      <td>1000</td>\n",
       "      <td>1000</td>\n",
       "      <td>5000</td>\n",
       "      <td>0</td>\n",
       "    </tr>\n",
       "    <tr>\n",
       "      <th>3</th>\n",
       "      <td>50000.0</td>\n",
       "      <td>2</td>\n",
       "      <td>2</td>\n",
       "      <td>1</td>\n",
       "      <td>37.0</td>\n",
       "      <td>0</td>\n",
       "      <td>0</td>\n",
       "      <td>0</td>\n",
       "      <td>0</td>\n",
       "      <td>0</td>\n",
       "      <td>...</td>\n",
       "      <td>28314</td>\n",
       "      <td>28959</td>\n",
       "      <td>29547</td>\n",
       "      <td>2000</td>\n",
       "      <td>2019</td>\n",
       "      <td>1200</td>\n",
       "      <td>1100</td>\n",
       "      <td>1069</td>\n",
       "      <td>1000</td>\n",
       "      <td>0</td>\n",
       "    </tr>\n",
       "    <tr>\n",
       "      <th>4</th>\n",
       "      <td>50000.0</td>\n",
       "      <td>1</td>\n",
       "      <td>2</td>\n",
       "      <td>1</td>\n",
       "      <td>57.0</td>\n",
       "      <td>-1</td>\n",
       "      <td>0</td>\n",
       "      <td>-1</td>\n",
       "      <td>0</td>\n",
       "      <td>0</td>\n",
       "      <td>...</td>\n",
       "      <td>20940</td>\n",
       "      <td>19146</td>\n",
       "      <td>19131</td>\n",
       "      <td>2000</td>\n",
       "      <td>36681</td>\n",
       "      <td>10000</td>\n",
       "      <td>9000</td>\n",
       "      <td>689</td>\n",
       "      <td>679</td>\n",
       "      <td>0</td>\n",
       "    </tr>\n",
       "  </tbody>\n",
       "</table>\n",
       "<p>5 rows × 24 columns</p>\n",
       "</div>"
      ],
      "text/plain": [
       "   LIMIT_BAL  SEX  EDUCATION  MARRIAGE   AGE  PAY_0  PAY_2  PAY_3  PAY_4  \\\n",
       "0    20000.0    2          2         1  24.0      2      2     -1     -1   \n",
       "1   120000.0    2          2         2  26.0     -1      2      0      0   \n",
       "2    90000.0    2          2         2  34.0      0      0      0      0   \n",
       "3    50000.0    2          2         1  37.0      0      0      0      0   \n",
       "4    50000.0    1          2         1  57.0     -1      0     -1      0   \n",
       "\n",
       "   PAY_5  ...  BILL_AMT4  BILL_AMT5  BILL_AMT6  PAY_AMT1  PAY_AMT2  PAY_AMT3  \\\n",
       "0     -2  ...          0          0          0         0       689         0   \n",
       "1      0  ...       3272       3455       3261         0      1000      1000   \n",
       "2      0  ...      14331      14948      15549      1518      1500      1000   \n",
       "3      0  ...      28314      28959      29547      2000      2019      1200   \n",
       "4      0  ...      20940      19146      19131      2000     36681     10000   \n",
       "\n",
       "   PAY_AMT4  PAY_AMT5  PAY_AMT6  default  \n",
       "0         0         0         0        1  \n",
       "1      1000         0      2000        1  \n",
       "2      1000      1000      5000        0  \n",
       "3      1100      1069      1000        0  \n",
       "4      9000       689       679        0  \n",
       "\n",
       "[5 rows x 24 columns]"
      ]
     },
     "execution_count": 55,
     "metadata": {},
     "output_type": "execute_result"
    }
   ],
   "source": [
    "CC_DF_final.head()"
   ]
  },
  {
   "cell_type": "code",
   "execution_count": 56,
   "id": "137a45a1",
   "metadata": {},
   "outputs": [
    {
     "data": {
      "text/html": [
       "<div>\n",
       "<style scoped>\n",
       "    .dataframe tbody tr th:only-of-type {\n",
       "        vertical-align: middle;\n",
       "    }\n",
       "\n",
       "    .dataframe tbody tr th {\n",
       "        vertical-align: top;\n",
       "    }\n",
       "\n",
       "    .dataframe thead th {\n",
       "        text-align: right;\n",
       "    }\n",
       "</style>\n",
       "<table border=\"1\" class=\"dataframe\">\n",
       "  <thead>\n",
       "    <tr style=\"text-align: right;\">\n",
       "      <th></th>\n",
       "      <th>LIMIT_BAL</th>\n",
       "      <th>SEX</th>\n",
       "      <th>EDUCATION</th>\n",
       "      <th>MARRIAGE</th>\n",
       "      <th>AGE</th>\n",
       "      <th>PAY_0</th>\n",
       "      <th>PAY_2</th>\n",
       "      <th>PAY_3</th>\n",
       "      <th>PAY_4</th>\n",
       "      <th>PAY_5</th>\n",
       "      <th>...</th>\n",
       "      <th>BILL_AMT5</th>\n",
       "      <th>BILL_AMT6</th>\n",
       "      <th>PAY_AMT1</th>\n",
       "      <th>PAY_AMT2</th>\n",
       "      <th>PAY_AMT3</th>\n",
       "      <th>PAY_AMT4</th>\n",
       "      <th>PAY_AMT5</th>\n",
       "      <th>PAY_AMT6</th>\n",
       "      <th>default</th>\n",
       "      <th>AVG_BILL_AMT</th>\n",
       "    </tr>\n",
       "  </thead>\n",
       "  <tbody>\n",
       "    <tr>\n",
       "      <th>46723</th>\n",
       "      <td>80000.000000</td>\n",
       "      <td>1</td>\n",
       "      <td>1</td>\n",
       "      <td>1</td>\n",
       "      <td>35.945412</td>\n",
       "      <td>2</td>\n",
       "      <td>1</td>\n",
       "      <td>1</td>\n",
       "      <td>2</td>\n",
       "      <td>2</td>\n",
       "      <td>...</td>\n",
       "      <td>40597</td>\n",
       "      <td>42101</td>\n",
       "      <td>3308</td>\n",
       "      <td>1429</td>\n",
       "      <td>2746</td>\n",
       "      <td>476</td>\n",
       "      <td>2238</td>\n",
       "      <td>2046</td>\n",
       "      <td>1</td>\n",
       "      <td>2.027318e+05</td>\n",
       "    </tr>\n",
       "    <tr>\n",
       "      <th>46724</th>\n",
       "      <td>200000.000000</td>\n",
       "      <td>1</td>\n",
       "      <td>1</td>\n",
       "      <td>1</td>\n",
       "      <td>42.667513</td>\n",
       "      <td>-1</td>\n",
       "      <td>-1</td>\n",
       "      <td>-1</td>\n",
       "      <td>-1</td>\n",
       "      <td>-1</td>\n",
       "      <td>...</td>\n",
       "      <td>2517</td>\n",
       "      <td>0</td>\n",
       "      <td>290</td>\n",
       "      <td>79</td>\n",
       "      <td>480</td>\n",
       "      <td>2517</td>\n",
       "      <td>0</td>\n",
       "      <td>228</td>\n",
       "      <td>1</td>\n",
       "      <td>3.774000e+03</td>\n",
       "    </tr>\n",
       "    <tr>\n",
       "      <th>46725</th>\n",
       "      <td>120000.000000</td>\n",
       "      <td>1</td>\n",
       "      <td>2</td>\n",
       "      <td>2</td>\n",
       "      <td>30.443648</td>\n",
       "      <td>1</td>\n",
       "      <td>-2</td>\n",
       "      <td>-2</td>\n",
       "      <td>-2</td>\n",
       "      <td>-2</td>\n",
       "      <td>...</td>\n",
       "      <td>-1946</td>\n",
       "      <td>-1946</td>\n",
       "      <td>2</td>\n",
       "      <td>0</td>\n",
       "      <td>0</td>\n",
       "      <td>0</td>\n",
       "      <td>0</td>\n",
       "      <td>0</td>\n",
       "      <td>1</td>\n",
       "      <td>-7.940333e+03</td>\n",
       "    </tr>\n",
       "    <tr>\n",
       "      <th>46726</th>\n",
       "      <td>194668.588007</td>\n",
       "      <td>1</td>\n",
       "      <td>2</td>\n",
       "      <td>1</td>\n",
       "      <td>33.132565</td>\n",
       "      <td>6</td>\n",
       "      <td>5</td>\n",
       "      <td>4</td>\n",
       "      <td>3</td>\n",
       "      <td>2</td>\n",
       "      <td>...</td>\n",
       "      <td>203659</td>\n",
       "      <td>193689</td>\n",
       "      <td>0</td>\n",
       "      <td>153</td>\n",
       "      <td>0</td>\n",
       "      <td>0</td>\n",
       "      <td>75986</td>\n",
       "      <td>4899</td>\n",
       "      <td>1</td>\n",
       "      <td>1.162394e+06</td>\n",
       "    </tr>\n",
       "    <tr>\n",
       "      <th>46727</th>\n",
       "      <td>140000.000000</td>\n",
       "      <td>2</td>\n",
       "      <td>1</td>\n",
       "      <td>1</td>\n",
       "      <td>27.260045</td>\n",
       "      <td>2</td>\n",
       "      <td>2</td>\n",
       "      <td>2</td>\n",
       "      <td>2</td>\n",
       "      <td>2</td>\n",
       "      <td>...</td>\n",
       "      <td>100041</td>\n",
       "      <td>100237</td>\n",
       "      <td>4426</td>\n",
       "      <td>3808</td>\n",
       "      <td>3626</td>\n",
       "      <td>2589</td>\n",
       "      <td>2028</td>\n",
       "      <td>2567</td>\n",
       "      <td>1</td>\n",
       "      <td>5.073232e+05</td>\n",
       "    </tr>\n",
       "  </tbody>\n",
       "</table>\n",
       "<p>5 rows × 25 columns</p>\n",
       "</div>"
      ],
      "text/plain": [
       "           LIMIT_BAL  SEX  EDUCATION  MARRIAGE        AGE  PAY_0  PAY_2  \\\n",
       "46723   80000.000000    1          1         1  35.945412      2      1   \n",
       "46724  200000.000000    1          1         1  42.667513     -1     -1   \n",
       "46725  120000.000000    1          2         2  30.443648      1     -2   \n",
       "46726  194668.588007    1          2         1  33.132565      6      5   \n",
       "46727  140000.000000    2          1         1  27.260045      2      2   \n",
       "\n",
       "       PAY_3  PAY_4  PAY_5  ...  BILL_AMT5  BILL_AMT6  PAY_AMT1  PAY_AMT2  \\\n",
       "46723      1      2      2  ...      40597      42101      3308      1429   \n",
       "46724     -1     -1     -1  ...       2517          0       290        79   \n",
       "46725     -2     -2     -2  ...      -1946      -1946         2         0   \n",
       "46726      4      3      2  ...     203659     193689         0       153   \n",
       "46727      2      2      2  ...     100041     100237      4426      3808   \n",
       "\n",
       "       PAY_AMT3  PAY_AMT4  PAY_AMT5  PAY_AMT6  default  AVG_BILL_AMT  \n",
       "46723      2746       476      2238      2046        1  2.027318e+05  \n",
       "46724       480      2517         0       228        1  3.774000e+03  \n",
       "46725         0         0         0         0        1 -7.940333e+03  \n",
       "46726         0         0     75986      4899        1  1.162394e+06  \n",
       "46727      3626      2589      2028      2567        1  5.073232e+05  \n",
       "\n",
       "[5 rows x 25 columns]"
      ]
     },
     "execution_count": 56,
     "metadata": {},
     "output_type": "execute_result"
    }
   ],
   "source": [
    "CC_DF_final['AVG_BILL_AMT']=(CC_DF_final['BILL_AMT1']+CC_DF_final['BILL_AMT2']+CC_DF_final['BILL_AMT3']+CC_DF_final['BILL_AMT4']+CC_DF_final['BILL_AMT5']+CC_DF_final['BILL_AMT6']/6)\n",
    "CC_DF_final.tail()"
   ]
  },
  {
   "cell_type": "code",
   "execution_count": 57,
   "id": "ab8e85b2",
   "metadata": {},
   "outputs": [],
   "source": [
    "X=CC_DF_final.drop('default',axis=1)\n",
    "y=CC_DF_final['default']"
   ]
  },
  {
   "cell_type": "code",
   "execution_count": 58,
   "id": "b0454839",
   "metadata": {},
   "outputs": [],
   "source": [
    "X_train,X_test,y_train,y_test = train_test_split(X,y,test_size=0.25,random_state=0)"
   ]
  },
  {
   "cell_type": "code",
   "execution_count": 59,
   "id": "895d0f5e",
   "metadata": {},
   "outputs": [],
   "source": [
    "X_train_scaled=scaler.fit_transform(X_train)\n",
    "X_test_scaled=scaler.transform(X_test)"
   ]
  },
  {
   "cell_type": "code",
   "execution_count": 60,
   "id": "fef0dbbc",
   "metadata": {},
   "outputs": [],
   "source": [
    "RF_F=RandomForestClassifier()"
   ]
  },
  {
   "cell_type": "code",
   "execution_count": 61,
   "id": "d4369090",
   "metadata": {},
   "outputs": [
    {
     "data": {
      "text/plain": [
       "RandomForestClassifier()"
      ]
     },
     "execution_count": 61,
     "metadata": {},
     "output_type": "execute_result"
    }
   ],
   "source": [
    "RF_F.fit(X_train_scaled,y_train)"
   ]
  },
  {
   "cell_type": "code",
   "execution_count": 62,
   "id": "9c22160f",
   "metadata": {},
   "outputs": [
    {
     "name": "stdout",
     "output_type": "stream",
     "text": [
      "\n",
      "Training Accuracy Score:  0.9996575928779319\n",
      "Testing Accuracy Score:  0.8396678650915939\n",
      "Precision on test data:  0.8593638313080773\n",
      "Recall on test data:  0.8157760814249364\n",
      "F1 score on test data:  0.8370028718127229\n",
      "\n",
      "========================================================\n",
      "Classification Report on Train data\n",
      "              precision    recall  f1-score   support\n",
      "\n",
      "           0       1.00      1.00      1.00     17579\n",
      "           1       1.00      1.00      1.00     17467\n",
      "\n",
      "    accuracy                           1.00     35046\n",
      "   macro avg       1.00      1.00      1.00     35046\n",
      "weighted avg       1.00      1.00      1.00     35046\n",
      "\n",
      "\n",
      "========================================================\n",
      "Classification Report on Test data\n",
      "              precision    recall  f1-score   support\n",
      "\n",
      "           0       0.86      0.82      0.84      6086\n",
      "           1       0.82      0.86      0.84      5596\n",
      "\n",
      "    accuracy                           0.84     11682\n",
      "   macro avg       0.84      0.84      0.84     11682\n",
      "weighted avg       0.84      0.84      0.84     11682\n",
      "\n",
      "\n",
      "========================================================\n"
     ]
    },
    {
     "data": {
      "image/png": "[encoded data removed]",
      "text/plain": [
       "<Figure size 1400x600 with 3 Axes>"
      ]
     },
     "metadata": {},
     "output_type": "display_data"
    },
    {
     "data": {
      "text/plain": [
       "{'Train accuracy': 0.9996575928779319,\n",
       " 'Test accuracy': 0.8396678650915939,\n",
       " 'Precision': 0.8593638313080773,\n",
       " 'Recall': 0.8157760814249364,\n",
       " 'F1 Score': 0.8370028718127229}"
      ]
     },
     "execution_count": 62,
     "metadata": {},
     "output_type": "execute_result"
    }
   ],
   "source": [
    "helper(RF_F,X_train_scaled,y_train,X_test_scaled,y_test)"
   ]
  },
  {
   "cell_type": "code",
   "execution_count": 63,
   "id": "64a43cef",
   "metadata": {},
   "outputs": [],
   "source": [
    "fin_m=({'Scores':{'Train accuracy': 0.9996005250242538,\n",
    " 'Test accuracy': 0.842492723848656,\n",
    " 'Precision': 0.855265463465919,\n",
    " 'Recall': 0.8279898218829517,\n",
    " 'F1 Score': 0.841406654025168}})\n",
    "final_model= pd.DataFrame(fin_m)"
   ]
  },
  {
   "cell_type": "code",
   "execution_count": 64,
   "id": "085dad43",
   "metadata": {},
   "outputs": [
    {
     "data": {
      "text/html": [
       "<div>\n",
       "<style scoped>\n",
       "    .dataframe tbody tr th:only-of-type {\n",
       "        vertical-align: middle;\n",
       "    }\n",
       "\n",
       "    .dataframe tbody tr th {\n",
       "        vertical-align: top;\n",
       "    }\n",
       "\n",
       "    .dataframe thead th {\n",
       "        text-align: right;\n",
       "    }\n",
       "</style>\n",
       "<table border=\"1\" class=\"dataframe\">\n",
       "  <thead>\n",
       "    <tr style=\"text-align: right;\">\n",
       "      <th></th>\n",
       "      <th>Scores</th>\n",
       "    </tr>\n",
       "  </thead>\n",
       "  <tbody>\n",
       "    <tr>\n",
       "      <th>F1 Score</th>\n",
       "      <td>0.841407</td>\n",
       "    </tr>\n",
       "    <tr>\n",
       "      <th>Precision</th>\n",
       "      <td>0.855265</td>\n",
       "    </tr>\n",
       "    <tr>\n",
       "      <th>Recall</th>\n",
       "      <td>0.827990</td>\n",
       "    </tr>\n",
       "    <tr>\n",
       "      <th>Test accuracy</th>\n",
       "      <td>0.842493</td>\n",
       "    </tr>\n",
       "    <tr>\n",
       "      <th>Train accuracy</th>\n",
       "      <td>0.999601</td>\n",
       "    </tr>\n",
       "  </tbody>\n",
       "</table>\n",
       "</div>"
      ],
      "text/plain": [
       "                  Scores\n",
       "F1 Score        0.841407\n",
       "Precision       0.855265\n",
       "Recall          0.827990\n",
       "Test accuracy   0.842493\n",
       "Train accuracy  0.999601"
      ]
     },
     "execution_count": 64,
     "metadata": {},
     "output_type": "execute_result"
    }
   ],
   "source": [
    "final_model"
   ]
  },
  {
   "cell_type": "code",
   "execution_count": 65,
   "id": "0ebc24f9",
   "metadata": {},
   "outputs": [],
   "source": [
    "logger.info(final_model)\n"
   ]
  },
  {
   "cell_type": "code",
   "execution_count": 66,
   "id": "a509a34e",
   "metadata": {},
   "outputs": [],
   "source": [
    "logger.info('FINAL MODEL BUILDING ENDS!')"
   ]
  },
  {
   "cell_type": "markdown",
   "id": "d1bf9bdb",
   "metadata": {},
   "source": [
    "# Saving the file"
   ]
  },
  {
   "cell_type": "code",
   "execution_count": 67,
   "id": "7e0c8a6a",
   "metadata": {},
   "outputs": [],
   "source": [
    "logger.info('SAVING THE MODEL...')"
   ]
  },
  {
   "cell_type": "code",
   "execution_count": 68,
   "id": "e754ced9",
   "metadata": {},
   "outputs": [],
   "source": [
    "import pickle\n",
    "pickle.dump(RF_F, open('ccdp.pkl', 'wb'))\n",
    "\n",
    "logger.info('MODEL SAVED!')"
   ]
  },
  {
   "cell_type": "code",
   "execution_count": 69,
   "id": "060453d7",
   "metadata": {},
   "outputs": [],
   "source": [
    "pickle.dump(scaler, open('scaler.pkl', 'wb'))"
   ]
  },
  {
   "cell_type": "markdown",
   "id": "e1c0f111",
   "metadata": {},
   "source": [
    "# Compress the model.pkl, to easy the process of deployement"
   ]
  },
  {
   "cell_type": "code",
   "execution_count": 70,
   "id": "339b4c4a",
   "metadata": {},
   "outputs": [],
   "source": [
    "import bz2 as bz2"
   ]
  },
  {
   "cell_type": "code",
   "execution_count": 71,
   "id": "cf1cdfad",
   "metadata": {},
   "outputs": [],
   "source": [
    "def compressed_pickle(title, data):\n",
    "    with bz2.BZ2File(title + '.pbz2', 'w') as f:\n",
    "        pickle.dump(data, f)"
   ]
  },
  {
   "cell_type": "code",
   "execution_count": 72,
   "id": "3c4b60cd",
   "metadata": {},
   "outputs": [],
   "source": [
    "compressed_pickle('ccdp', RF_F)"
   ]
  },
  {
   "cell_type": "code",
   "execution_count": 73,
   "id": "c9a73ae9",
   "metadata": {},
   "outputs": [],
   "source": [
    "logger.info('PROJECT RUNNING ENDS!')"
   ]
  },
  {
   "cell_type": "code",
   "execution_count": null,
   "id": "a6ade0cc",
   "metadata": {},
   "outputs": [],
   "source": []
  }
 ],
 "metadata": {
  "kernelspec": {
   "display_name": "Python 3 (ipykernel)",
   "language": "python",
   "name": "python3"
  },
  "language_info": {
   "codemirror_mode": {
    "name": "ipython",
    "version": 3
   },
   "file_extension": ".py",
   "mimetype": "text/x-python",
   "name": "python",
   "nbconvert_exporter": "python",
   "pygments_lexer": "ipython3",
   "version": "3.9.13"
  }
 },
 "nbformat": 4,
 "nbformat_minor": 5
}
